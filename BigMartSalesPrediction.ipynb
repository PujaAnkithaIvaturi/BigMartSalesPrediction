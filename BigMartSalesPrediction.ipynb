{
  "cells": [
    {
      "cell_type": "markdown",
      "metadata": {
        "id": "mOdCTUEMkgQk"
      },
      "source": [
        "# Big Mart Sales Prediction"
      ]
    },
    {
      "cell_type": "markdown",
      "metadata": {
        "id": "iJu7s-SrkgQo"
      },
      "source": [
        "### Importing necessary libraries"
      ]
    },
    {
      "cell_type": "code",
      "execution_count": null,
      "metadata": {
        "id": "giSbC_d2rqh_"
      },
      "outputs": [],
      "source": [
        "import pandas as pd\n",
        "import numpy as np\n",
        "import seaborn as sns\n",
        "import matplotlib.pyplot as plt\n",
        "import warnings"
      ]
    },
    {
      "cell_type": "code",
      "execution_count": null,
      "metadata": {
        "id": "hn-hiR1dr5t-"
      },
      "outputs": [],
      "source": [
        "warnings.filterwarnings('ignore')"
      ]
    },
    {
      "cell_type": "markdown",
      "metadata": {
        "id": "1MBKo07MkgQs"
      },
      "source": [
        "### Loading the dataset"
      ]
    },
    {
      "cell_type": "code",
      "execution_count": null,
      "metadata": {
        "id": "a-kllUPOr-XJ"
      },
      "outputs": [],
      "source": [
        "dataset=pd.read_csv('archive/big_mart_Train.csv')"
      ]
    },
    {
      "cell_type": "code",
      "execution_count": null,
      "metadata": {
        "id": "bUUZ0229kgQu",
        "outputId": "28c73770-a47e-4594-8787-65c70acec414"
      },
      "outputs": [
        {
          "data": {
            "text/html": [
              "<div>\n",
              "<style scoped>\n",
              "    .dataframe tbody tr th:only-of-type {\n",
              "        vertical-align: middle;\n",
              "    }\n",
              "\n",
              "    .dataframe tbody tr th {\n",
              "        vertical-align: top;\n",
              "    }\n",
              "\n",
              "    .dataframe thead th {\n",
              "        text-align: right;\n",
              "    }\n",
              "</style>\n",
              "<table border=\"1\" class=\"dataframe\">\n",
              "  <thead>\n",
              "    <tr style=\"text-align: right;\">\n",
              "      <th></th>\n",
              "      <th>Item_Identifier</th>\n",
              "      <th>Item_Weight</th>\n",
              "      <th>Item_Fat_Content</th>\n",
              "      <th>Item_Visibility</th>\n",
              "      <th>Item_Type</th>\n",
              "      <th>Item_MRP</th>\n",
              "      <th>Outlet_Identifier</th>\n",
              "      <th>Outlet_Establishment_Year</th>\n",
              "      <th>Outlet_Size</th>\n",
              "      <th>Outlet_Location_Type</th>\n",
              "      <th>Outlet_Type</th>\n",
              "      <th>Item_Outlet_Sales</th>\n",
              "    </tr>\n",
              "  </thead>\n",
              "  <tbody>\n",
              "    <tr>\n",
              "      <th>3810</th>\n",
              "      <td>NCQ30</td>\n",
              "      <td>7.725</td>\n",
              "      <td>LF</td>\n",
              "      <td>0.048661</td>\n",
              "      <td>Household</td>\n",
              "      <td>123.7414</td>\n",
              "      <td>OUT010</td>\n",
              "      <td>1998</td>\n",
              "      <td>NaN</td>\n",
              "      <td>Tier 3</td>\n",
              "      <td>Grocery Store</td>\n",
              "      <td>121.8414</td>\n",
              "    </tr>\n",
              "    <tr>\n",
              "      <th>5387</th>\n",
              "      <td>FDS60</td>\n",
              "      <td>20.850</td>\n",
              "      <td>Low Fat</td>\n",
              "      <td>0.032581</td>\n",
              "      <td>Baking Goods</td>\n",
              "      <td>180.0660</td>\n",
              "      <td>OUT018</td>\n",
              "      <td>2009</td>\n",
              "      <td>Medium</td>\n",
              "      <td>Tier 3</td>\n",
              "      <td>Supermarket Type2</td>\n",
              "      <td>2157.1920</td>\n",
              "    </tr>\n",
              "    <tr>\n",
              "      <th>8107</th>\n",
              "      <td>FDX16</td>\n",
              "      <td>17.850</td>\n",
              "      <td>Low Fat</td>\n",
              "      <td>0.110153</td>\n",
              "      <td>Frozen Foods</td>\n",
              "      <td>150.2050</td>\n",
              "      <td>OUT010</td>\n",
              "      <td>1998</td>\n",
              "      <td>NaN</td>\n",
              "      <td>Tier 3</td>\n",
              "      <td>Grocery Store</td>\n",
              "      <td>149.8050</td>\n",
              "    </tr>\n",
              "    <tr>\n",
              "      <th>2317</th>\n",
              "      <td>NCJ31</td>\n",
              "      <td>19.200</td>\n",
              "      <td>Low Fat</td>\n",
              "      <td>0.182938</td>\n",
              "      <td>Others</td>\n",
              "      <td>243.0196</td>\n",
              "      <td>OUT049</td>\n",
              "      <td>1999</td>\n",
              "      <td>Medium</td>\n",
              "      <td>Tier 1</td>\n",
              "      <td>Supermarket Type1</td>\n",
              "      <td>3615.2940</td>\n",
              "    </tr>\n",
              "    <tr>\n",
              "      <th>8441</th>\n",
              "      <td>FDK60</td>\n",
              "      <td>16.500</td>\n",
              "      <td>Regular</td>\n",
              "      <td>0.094010</td>\n",
              "      <td>Baking Goods</td>\n",
              "      <td>95.2068</td>\n",
              "      <td>OUT049</td>\n",
              "      <td>1999</td>\n",
              "      <td>Medium</td>\n",
              "      <td>Tier 1</td>\n",
              "      <td>Supermarket Type1</td>\n",
              "      <td>777.6544</td>\n",
              "    </tr>\n",
              "  </tbody>\n",
              "</table>\n",
              "</div>"
            ],
            "text/plain": [
              "     Item_Identifier  Item_Weight Item_Fat_Content  Item_Visibility  \\\n",
              "3810           NCQ30        7.725               LF         0.048661   \n",
              "5387           FDS60       20.850          Low Fat         0.032581   \n",
              "8107           FDX16       17.850          Low Fat         0.110153   \n",
              "2317           NCJ31       19.200          Low Fat         0.182938   \n",
              "8441           FDK60       16.500          Regular         0.094010   \n",
              "\n",
              "         Item_Type  Item_MRP Outlet_Identifier  Outlet_Establishment_Year  \\\n",
              "3810     Household  123.7414            OUT010                       1998   \n",
              "5387  Baking Goods  180.0660            OUT018                       2009   \n",
              "8107  Frozen Foods  150.2050            OUT010                       1998   \n",
              "2317        Others  243.0196            OUT049                       1999   \n",
              "8441  Baking Goods   95.2068            OUT049                       1999   \n",
              "\n",
              "     Outlet_Size Outlet_Location_Type        Outlet_Type  Item_Outlet_Sales  \n",
              "3810         NaN               Tier 3      Grocery Store           121.8414  \n",
              "5387      Medium               Tier 3  Supermarket Type2          2157.1920  \n",
              "8107         NaN               Tier 3      Grocery Store           149.8050  \n",
              "2317      Medium               Tier 1  Supermarket Type1          3615.2940  \n",
              "8441      Medium               Tier 1  Supermarket Type1           777.6544  "
            ]
          },
          "execution_count": 13,
          "metadata": {},
          "output_type": "execute_result"
        }
      ],
      "source": [
        "dataset.sample(5)"
      ]
    },
    {
      "cell_type": "markdown",
      "metadata": {
        "id": "U-CgJFPAkgQw"
      },
      "source": [
        "### Finding the shape of the dataset (No. of rows and columns)"
      ]
    },
    {
      "cell_type": "code",
      "execution_count": null,
      "metadata": {
        "id": "RqMK1AQQkgQx",
        "outputId": "f81c8a89-2408-4d07-c61d-078c14b9a39a"
      },
      "outputs": [
        {
          "data": {
            "text/plain": [
              "(8523, 12)"
            ]
          },
          "execution_count": 9,
          "metadata": {},
          "output_type": "execute_result"
        }
      ],
      "source": [
        "dataset.shape"
      ]
    },
    {
      "cell_type": "code",
      "execution_count": null,
      "metadata": {
        "id": "E9du_jLAkgQy",
        "outputId": "6ffb8042-8cb5-40cc-9c0b-0fc53836a637"
      },
      "outputs": [
        {
          "data": {
            "text/html": [
              "<div>\n",
              "<style scoped>\n",
              "    .dataframe tbody tr th:only-of-type {\n",
              "        vertical-align: middle;\n",
              "    }\n",
              "\n",
              "    .dataframe tbody tr th {\n",
              "        vertical-align: top;\n",
              "    }\n",
              "\n",
              "    .dataframe thead th {\n",
              "        text-align: right;\n",
              "    }\n",
              "</style>\n",
              "<table border=\"1\" class=\"dataframe\">\n",
              "  <thead>\n",
              "    <tr style=\"text-align: right;\">\n",
              "      <th></th>\n",
              "      <th>Item_Weight</th>\n",
              "      <th>Item_Visibility</th>\n",
              "      <th>Item_MRP</th>\n",
              "      <th>Outlet_Establishment_Year</th>\n",
              "      <th>Item_Outlet_Sales</th>\n",
              "    </tr>\n",
              "  </thead>\n",
              "  <tbody>\n",
              "    <tr>\n",
              "      <th>count</th>\n",
              "      <td>7060.000000</td>\n",
              "      <td>8523.000000</td>\n",
              "      <td>8523.000000</td>\n",
              "      <td>8523.000000</td>\n",
              "      <td>8523.000000</td>\n",
              "    </tr>\n",
              "    <tr>\n",
              "      <th>mean</th>\n",
              "      <td>12.857645</td>\n",
              "      <td>0.066132</td>\n",
              "      <td>140.992782</td>\n",
              "      <td>1997.831867</td>\n",
              "      <td>2181.288914</td>\n",
              "    </tr>\n",
              "    <tr>\n",
              "      <th>std</th>\n",
              "      <td>4.643456</td>\n",
              "      <td>0.051598</td>\n",
              "      <td>62.275067</td>\n",
              "      <td>8.371760</td>\n",
              "      <td>1706.499616</td>\n",
              "    </tr>\n",
              "    <tr>\n",
              "      <th>min</th>\n",
              "      <td>4.555000</td>\n",
              "      <td>0.000000</td>\n",
              "      <td>31.290000</td>\n",
              "      <td>1985.000000</td>\n",
              "      <td>33.290000</td>\n",
              "    </tr>\n",
              "    <tr>\n",
              "      <th>25%</th>\n",
              "      <td>8.773750</td>\n",
              "      <td>0.026989</td>\n",
              "      <td>93.826500</td>\n",
              "      <td>1987.000000</td>\n",
              "      <td>834.247400</td>\n",
              "    </tr>\n",
              "    <tr>\n",
              "      <th>50%</th>\n",
              "      <td>12.600000</td>\n",
              "      <td>0.053931</td>\n",
              "      <td>143.012800</td>\n",
              "      <td>1999.000000</td>\n",
              "      <td>1794.331000</td>\n",
              "    </tr>\n",
              "    <tr>\n",
              "      <th>75%</th>\n",
              "      <td>16.850000</td>\n",
              "      <td>0.094585</td>\n",
              "      <td>185.643700</td>\n",
              "      <td>2004.000000</td>\n",
              "      <td>3101.296400</td>\n",
              "    </tr>\n",
              "    <tr>\n",
              "      <th>max</th>\n",
              "      <td>21.350000</td>\n",
              "      <td>0.328391</td>\n",
              "      <td>266.888400</td>\n",
              "      <td>2009.000000</td>\n",
              "      <td>13086.964800</td>\n",
              "    </tr>\n",
              "  </tbody>\n",
              "</table>\n",
              "</div>"
            ],
            "text/plain": [
              "       Item_Weight  Item_Visibility     Item_MRP  Outlet_Establishment_Year  \\\n",
              "count  7060.000000      8523.000000  8523.000000                8523.000000   \n",
              "mean     12.857645         0.066132   140.992782                1997.831867   \n",
              "std       4.643456         0.051598    62.275067                   8.371760   \n",
              "min       4.555000         0.000000    31.290000                1985.000000   \n",
              "25%       8.773750         0.026989    93.826500                1987.000000   \n",
              "50%      12.600000         0.053931   143.012800                1999.000000   \n",
              "75%      16.850000         0.094585   185.643700                2004.000000   \n",
              "max      21.350000         0.328391   266.888400                2009.000000   \n",
              "\n",
              "       Item_Outlet_Sales  \n",
              "count        8523.000000  \n",
              "mean         2181.288914  \n",
              "std          1706.499616  \n",
              "min            33.290000  \n",
              "25%           834.247400  \n",
              "50%          1794.331000  \n",
              "75%          3101.296400  \n",
              "max         13086.964800  "
            ]
          },
          "execution_count": 15,
          "metadata": {},
          "output_type": "execute_result"
        }
      ],
      "source": [
        "dataset.describe()"
      ]
    },
    {
      "cell_type": "markdown",
      "metadata": {
        "id": "WZLZaShLkgQy"
      },
      "source": [
        "### Checking for null values in the dataset"
      ]
    },
    {
      "cell_type": "code",
      "execution_count": null,
      "metadata": {
        "id": "pc5OyDzIkgQz",
        "outputId": "fb201879-5028-4f56-f9d1-83d61d750a2a"
      },
      "outputs": [
        {
          "data": {
            "text/plain": [
              "Item_Identifier                 0\n",
              "Item_Weight                  1463\n",
              "Item_Fat_Content                0\n",
              "Item_Visibility                 0\n",
              "Item_Type                       0\n",
              "Item_MRP                        0\n",
              "Outlet_Identifier               0\n",
              "Outlet_Establishment_Year       0\n",
              "Outlet_Size                  2410\n",
              "Outlet_Location_Type            0\n",
              "Outlet_Type                     0\n",
              "Item_Outlet_Sales               0\n",
              "dtype: int64"
            ]
          },
          "execution_count": 18,
          "metadata": {},
          "output_type": "execute_result"
        }
      ],
      "source": [
        "dataset.isnull().sum()"
      ]
    },
    {
      "cell_type": "code",
      "execution_count": null,
      "metadata": {
        "id": "ywrHkgJdkgQ1",
        "outputId": "02e63ae9-4863-4957-e04a-8fdf0d6b7ede"
      },
      "outputs": [
        {
          "data": {
            "text/plain": [
              "Item_Identifier               0.000000\n",
              "Item_Weight                  17.165317\n",
              "Item_Fat_Content              0.000000\n",
              "Item_Visibility               0.000000\n",
              "Item_Type                     0.000000\n",
              "Item_MRP                      0.000000\n",
              "Outlet_Identifier             0.000000\n",
              "Outlet_Establishment_Year     0.000000\n",
              "Outlet_Size                  28.276428\n",
              "Outlet_Location_Type          0.000000\n",
              "Outlet_Type                   0.000000\n",
              "Item_Outlet_Sales             0.000000\n",
              "dtype: float64"
            ]
          },
          "execution_count": 21,
          "metadata": {},
          "output_type": "execute_result"
        }
      ],
      "source": [
        "trainper=dataset.isnull().sum()*100/len(dataset)\n",
        "trainper"
      ]
    },
    {
      "cell_type": "markdown",
      "metadata": {
        "id": "UW_GXFF3kgQ2"
      },
      "source": [
        "### Taking care of duplicated values"
      ]
    },
    {
      "cell_type": "code",
      "execution_count": null,
      "metadata": {
        "id": "38krhR0UkgQ3",
        "outputId": "1882839c-ebcc-4d6a-8e41-78b22103584e"
      },
      "outputs": [
        {
          "data": {
            "text/plain": [
              "False"
            ]
          },
          "execution_count": 23,
          "metadata": {},
          "output_type": "execute_result"
        }
      ],
      "source": [
        "#True=duplicates exist. else, no\n",
        "dataset.duplicated().any()"
      ]
    },
    {
      "cell_type": "markdown",
      "metadata": {
        "id": "krAdvXgEkgQ3"
      },
      "source": [
        "### Handling missing values"
      ]
    },
    {
      "cell_type": "code",
      "execution_count": null,
      "metadata": {
        "id": "H5lqGkkDkgQ4",
        "outputId": "7f7993fc-28e0-49ad-8359-ec136bd4f4f2"
      },
      "outputs": [
        {
          "data": {
            "text/plain": [
              "0        9.300\n",
              "1        5.920\n",
              "2       17.500\n",
              "3       19.200\n",
              "4        8.930\n",
              "         ...  \n",
              "8518     6.865\n",
              "8519     8.380\n",
              "8520    10.600\n",
              "8521     7.210\n",
              "8522    14.800\n",
              "Name: Item_Weight, Length: 8523, dtype: float64"
            ]
          },
          "execution_count": 25,
          "metadata": {},
          "output_type": "execute_result"
        }
      ],
      "source": [
        "#Numerical\n",
        "dataset['Item_Weight']"
      ]
    },
    {
      "cell_type": "code",
      "execution_count": null,
      "metadata": {
        "id": "wBjTqJ8TkgQ5",
        "outputId": "c3835008-f56d-4314-b4c7-7d86b59790ed"
      },
      "outputs": [
        {
          "data": {
            "text/plain": [
              "0       Medium\n",
              "1       Medium\n",
              "2       Medium\n",
              "3          NaN\n",
              "4         High\n",
              "         ...  \n",
              "8518      High\n",
              "8519       NaN\n",
              "8520     Small\n",
              "8521    Medium\n",
              "8522     Small\n",
              "Name: Outlet_Size, Length: 8523, dtype: object"
            ]
          },
          "execution_count": 26,
          "metadata": {},
          "output_type": "execute_result"
        }
      ],
      "source": [
        "#Categorical\n",
        "dataset['Outlet_Size']"
      ]
    },
    {
      "cell_type": "markdown",
      "metadata": {
        "id": "V2Jz3tvDkgQ5"
      },
      "source": [
        "**Filling missing values in the numerical data** <br>\n",
        "Univariate Imputation - Mean, Median, Mode, Interpolation (nearest tuple values comparison - best), Constant value<br>\n",
        "Bivariate Imputation - Regression, KNN, Machine learning based"
      ]
    },
    {
      "cell_type": "markdown",
      "metadata": {
        "id": "cjDke19CkgQ6"
      },
      "source": [
        "### Univariate Imputation"
      ]
    },
    {
      "cell_type": "code",
      "execution_count": null,
      "metadata": {
        "id": "x_u__H0ckgQ6",
        "outputId": "3778d5fc-80c0-45b9-d775-f4a7f591f536"
      },
      "outputs": [
        {
          "name": "stdout",
          "output_type": "stream",
          "text": [
            "12.857645184135976 12.6\n"
          ]
        }
      ],
      "source": [
        "mean_weight = dataset['Item_Weight'].mean()\n",
        "median_weight = dataset['Item_Weight'].median()\n",
        "print(mean_weight, median_weight)"
      ]
    },
    {
      "cell_type": "code",
      "execution_count": null,
      "metadata": {
        "id": "AkHT2XbQkgQ7"
      },
      "outputs": [],
      "source": [
        "dataset['Item_Weight_mean']=dataset['Item_Weight'].fillna(mean_weight)\n",
        "dataset['Item_Weight_median']=dataset['Item_Weight'].fillna(median_weight)"
      ]
    },
    {
      "cell_type": "code",
      "execution_count": null,
      "metadata": {
        "id": "TJqjTxRtkgQ7",
        "outputId": "49665195-5aae-4d34-cef5-4d040f256bd1"
      },
      "outputs": [
        {
          "data": {
            "text/html": [
              "<div>\n",
              "<style scoped>\n",
              "    .dataframe tbody tr th:only-of-type {\n",
              "        vertical-align: middle;\n",
              "    }\n",
              "\n",
              "    .dataframe tbody tr th {\n",
              "        vertical-align: top;\n",
              "    }\n",
              "\n",
              "    .dataframe thead th {\n",
              "        text-align: right;\n",
              "    }\n",
              "</style>\n",
              "<table border=\"1\" class=\"dataframe\">\n",
              "  <thead>\n",
              "    <tr style=\"text-align: right;\">\n",
              "      <th></th>\n",
              "      <th>Item_Identifier</th>\n",
              "      <th>Item_Weight</th>\n",
              "      <th>Item_Fat_Content</th>\n",
              "      <th>Item_Visibility</th>\n",
              "      <th>Item_Type</th>\n",
              "      <th>Item_MRP</th>\n",
              "      <th>Outlet_Identifier</th>\n",
              "      <th>Outlet_Establishment_Year</th>\n",
              "      <th>Outlet_Size</th>\n",
              "      <th>Outlet_Location_Type</th>\n",
              "      <th>Outlet_Type</th>\n",
              "      <th>Item_Outlet_Sales</th>\n",
              "      <th>Item_Weight_mean</th>\n",
              "      <th>Item_Weight_median</th>\n",
              "    </tr>\n",
              "  </thead>\n",
              "  <tbody>\n",
              "    <tr>\n",
              "      <th>0</th>\n",
              "      <td>FDA15</td>\n",
              "      <td>9.30</td>\n",
              "      <td>Low Fat</td>\n",
              "      <td>0.016047</td>\n",
              "      <td>Dairy</td>\n",
              "      <td>249.8092</td>\n",
              "      <td>OUT049</td>\n",
              "      <td>1999</td>\n",
              "      <td>Medium</td>\n",
              "      <td>Tier 1</td>\n",
              "      <td>Supermarket Type1</td>\n",
              "      <td>3735.1380</td>\n",
              "      <td>9.30</td>\n",
              "      <td>9.30</td>\n",
              "    </tr>\n",
              "    <tr>\n",
              "      <th>1</th>\n",
              "      <td>DRC01</td>\n",
              "      <td>5.92</td>\n",
              "      <td>Regular</td>\n",
              "      <td>0.019278</td>\n",
              "      <td>Soft Drinks</td>\n",
              "      <td>48.2692</td>\n",
              "      <td>OUT018</td>\n",
              "      <td>2009</td>\n",
              "      <td>Medium</td>\n",
              "      <td>Tier 3</td>\n",
              "      <td>Supermarket Type2</td>\n",
              "      <td>443.4228</td>\n",
              "      <td>5.92</td>\n",
              "      <td>5.92</td>\n",
              "    </tr>\n",
              "    <tr>\n",
              "      <th>2</th>\n",
              "      <td>FDN15</td>\n",
              "      <td>17.50</td>\n",
              "      <td>Low Fat</td>\n",
              "      <td>0.016760</td>\n",
              "      <td>Meat</td>\n",
              "      <td>141.6180</td>\n",
              "      <td>OUT049</td>\n",
              "      <td>1999</td>\n",
              "      <td>Medium</td>\n",
              "      <td>Tier 1</td>\n",
              "      <td>Supermarket Type1</td>\n",
              "      <td>2097.2700</td>\n",
              "      <td>17.50</td>\n",
              "      <td>17.50</td>\n",
              "    </tr>\n",
              "    <tr>\n",
              "      <th>3</th>\n",
              "      <td>FDX07</td>\n",
              "      <td>19.20</td>\n",
              "      <td>Regular</td>\n",
              "      <td>0.000000</td>\n",
              "      <td>Fruits and Vegetables</td>\n",
              "      <td>182.0950</td>\n",
              "      <td>OUT010</td>\n",
              "      <td>1998</td>\n",
              "      <td>NaN</td>\n",
              "      <td>Tier 3</td>\n",
              "      <td>Grocery Store</td>\n",
              "      <td>732.3800</td>\n",
              "      <td>19.20</td>\n",
              "      <td>19.20</td>\n",
              "    </tr>\n",
              "    <tr>\n",
              "      <th>4</th>\n",
              "      <td>NCD19</td>\n",
              "      <td>8.93</td>\n",
              "      <td>Low Fat</td>\n",
              "      <td>0.000000</td>\n",
              "      <td>Household</td>\n",
              "      <td>53.8614</td>\n",
              "      <td>OUT013</td>\n",
              "      <td>1987</td>\n",
              "      <td>High</td>\n",
              "      <td>Tier 3</td>\n",
              "      <td>Supermarket Type1</td>\n",
              "      <td>994.7052</td>\n",
              "      <td>8.93</td>\n",
              "      <td>8.93</td>\n",
              "    </tr>\n",
              "  </tbody>\n",
              "</table>\n",
              "</div>"
            ],
            "text/plain": [
              "  Item_Identifier  Item_Weight Item_Fat_Content  Item_Visibility  \\\n",
              "0           FDA15         9.30          Low Fat         0.016047   \n",
              "1           DRC01         5.92          Regular         0.019278   \n",
              "2           FDN15        17.50          Low Fat         0.016760   \n",
              "3           FDX07        19.20          Regular         0.000000   \n",
              "4           NCD19         8.93          Low Fat         0.000000   \n",
              "\n",
              "               Item_Type  Item_MRP Outlet_Identifier  \\\n",
              "0                  Dairy  249.8092            OUT049   \n",
              "1            Soft Drinks   48.2692            OUT018   \n",
              "2                   Meat  141.6180            OUT049   \n",
              "3  Fruits and Vegetables  182.0950            OUT010   \n",
              "4              Household   53.8614            OUT013   \n",
              "\n",
              "   Outlet_Establishment_Year Outlet_Size Outlet_Location_Type  \\\n",
              "0                       1999      Medium               Tier 1   \n",
              "1                       2009      Medium               Tier 3   \n",
              "2                       1999      Medium               Tier 1   \n",
              "3                       1998         NaN               Tier 3   \n",
              "4                       1987        High               Tier 3   \n",
              "\n",
              "         Outlet_Type  Item_Outlet_Sales  Item_Weight_mean  Item_Weight_median  \n",
              "0  Supermarket Type1          3735.1380              9.30                9.30  \n",
              "1  Supermarket Type2           443.4228              5.92                5.92  \n",
              "2  Supermarket Type1          2097.2700             17.50               17.50  \n",
              "3      Grocery Store           732.3800             19.20               19.20  \n",
              "4  Supermarket Type1           994.7052              8.93                8.93  "
            ]
          },
          "execution_count": 32,
          "metadata": {},
          "output_type": "execute_result"
        }
      ],
      "source": [
        "dataset.head()"
      ]
    },
    {
      "cell_type": "code",
      "execution_count": null,
      "metadata": {
        "id": "dY7H_MNakgQ7",
        "outputId": "df2c3e6a-b20c-48dc-b033-87e6fdedbd4a"
      },
      "outputs": [
        {
          "name": "stdout",
          "output_type": "stream",
          "text": [
            "Original Weight variable variance 21.56168825983637\n",
            "Item Weight variable variance after mean Imputation 17.860121735060453\n",
            "Item Weight variable variance after median Imputation 17.869561454073366\n"
          ]
        }
      ],
      "source": [
        "print(\"Original Weight variable variance\",dataset['Item_Weight'].var())\n",
        "print(\"Item Weight variable variance after mean Imputation\",dataset['Item_Weight_mean'].var())\n",
        "print(\"Item Weight variable variance after median Imputation\",dataset['Item_Weight_median'].var())"
      ]
    },
    {
      "cell_type": "code",
      "execution_count": null,
      "metadata": {
        "id": "PBbOhmcxkgQ8",
        "outputId": "5e311dff-5a2d-4041-b459-a61a13ceadfe"
      },
      "outputs": [
        {
          "data": {
            "image/png": "[encoded data removed]",
            "text/plain": [
              "<Figure size 640x480 with 1 Axes>"
            ]
          },
          "metadata": {},
          "output_type": "display_data"
        }
      ],
      "source": [
        "dataset['Item_Weight'].plot(kind='kde',label='Original')\n",
        "dataset['Item_Weight_mean'].plot(kind='kde',label='After Mean Imputation')\n",
        "dataset['Item_Weight_median'].plot(kind='kde',label='After Median Imputation')\n",
        "plt.legend()\n",
        "plt.show()\n",
        "#Variance is too high. Not suitable. Let's go with other imputation methods"
      ]
    },
    {
      "cell_type": "code",
      "execution_count": null,
      "metadata": {
        "id": "4QLhAlrckgQ9",
        "outputId": "a103a149-33cc-4428-de3d-fa01c2093ab3"
      },
      "outputs": [
        {
          "data": {
            "text/plain": [
              "<Axes: >"
            ]
          },
          "execution_count": 36,
          "metadata": {},
          "output_type": "execute_result"
        },
        {
          "data": {
            "image/png": "[encoded data removed]",
            "text/plain": [
              "<Figure size 640x480 with 1 Axes>"
            ]
          },
          "metadata": {},
          "output_type": "display_data"
        }
      ],
      "source": [
        "dataset[['Item_Weight','Item_Weight_mean','Item_Weight_median']].boxplot()\n",
        "#no spread of data is observed"
      ]
    },
    {
      "cell_type": "code",
      "execution_count": null,
      "metadata": {
        "id": "80OWt9rLkgQ9"
      },
      "outputs": [],
      "source": [
        "dataset['Item_Weight_Interpolate']=dataset['Item_Weight'].interpolate(method='linear')"
      ]
    },
    {
      "cell_type": "code",
      "execution_count": null,
      "metadata": {
        "id": "g3Ft3iyzkgQ9",
        "outputId": "898b0a67-b414-486b-a8f0-23b4a9063f84"
      },
      "outputs": [
        {
          "data": {
            "image/png": "[encoded data removed]",
            "text/plain": [
              "<Figure size 640x480 with 1 Axes>"
            ]
          },
          "metadata": {},
          "output_type": "display_data"
        }
      ],
      "source": [
        "dataset['Item_Weight'].plot(kind='kde',label='Original')\n",
        "dataset['Item_Weight_mean'].plot(kind='kde',label='After Mean Imputation')\n",
        "dataset['Item_Weight_median'].plot(kind='kde',label='After Median Imputation')\n",
        "dataset['Item_Weight_Interpolate'].plot(kind='kde',label='After Interpolation Imputation')\n",
        "plt.legend()\n",
        "plt.show()\n",
        "#Interpolation has gone on almost same direction as of original data on filling the missing values. So far, the best choice."
      ]
    },
    {
      "cell_type": "code",
      "execution_count": null,
      "metadata": {
        "id": "o4uLydU_kgQ-",
        "outputId": "6bbc36f3-7c9f-4e77-c72f-cda5fc454570"
      },
      "outputs": [
        {
          "data": {
            "image/png": "[encoded data removed]",
            "text/plain": [
              "<Figure size 640x480 with 1 Axes>"
            ]
          },
          "metadata": {},
          "output_type": "display_data"
        }
      ],
      "source": [
        "dataset['Item_Weight'].plot(kind='kde',label='Original')\n",
        "dataset['Item_Weight_Interpolate'].plot(kind='kde',label='After Interpolation Imputation')\n",
        "plt.legend()\n",
        "plt.show()"
      ]
    },
    {
      "cell_type": "markdown",
      "metadata": {
        "id": "r2LtVDnqkgQ_"
      },
      "source": [
        "### Multivariate Imputation"
      ]
    },
    {
      "cell_type": "code",
      "execution_count": null,
      "metadata": {
        "id": "axc5S-UakgQ_"
      },
      "outputs": [],
      "source": [
        "from sklearn.impute import KNNImputer"
      ]
    },
    {
      "cell_type": "code",
      "execution_count": null,
      "metadata": {
        "id": "sutuMGNJkgRA"
      },
      "outputs": [],
      "source": [
        "knn=KNNImputer(n_neighbors=10, weights='distance')"
      ]
    },
    {
      "cell_type": "code",
      "execution_count": null,
      "metadata": {
        "id": "p2UH8wFEkgRA"
      },
      "outputs": [],
      "source": [
        "dataset['KNN-Imputer']=knn.fit_transform(dataset[['Item_Weight']]).ravel()"
      ]
    },
    {
      "cell_type": "code",
      "execution_count": null,
      "metadata": {
        "id": "gsYwL5aFkgRA",
        "outputId": "47fed9d5-9cfd-4996-fb1d-7c344c896fd8"
      },
      "outputs": [
        {
          "data": {
            "image/png": "[encoded data removed]",
            "text/plain": [
              "<Figure size 640x480 with 1 Axes>"
            ]
          },
          "metadata": {},
          "output_type": "display_data"
        }
      ],
      "source": [
        "dataset['Item_Weight'].plot(kind='kde',label='Original')\n",
        "dataset['Item_Weight_Interpolate'].plot(kind='kde',label='After Interpolation Imputation')\n",
        "dataset['KNN-Imputer'].plot(kind='kde',label='After KNN Imputation')\n",
        "plt.legend()\n",
        "plt.show()\n",
        "#Even the KNN shows a great variation in between the original and imputed data. So, let us go with interpolation as our fillna method."
      ]
    },
    {
      "cell_type": "code",
      "execution_count": null,
      "metadata": {
        "id": "IVEmdhBmkgRB"
      },
      "outputs": [],
      "source": [
        "#Let us keep Item_Weight_Interpolate column only and drop the remaining weights\n",
        "dataset=dataset.drop(['Item_Weight','Item_Weight_mean','Item_Weight_median','KNN-Imputer'],axis=1)"
      ]
    },
    {
      "cell_type": "code",
      "execution_count": null,
      "metadata": {
        "id": "_VB00vPLkgRe",
        "outputId": "fa7087b6-90bc-4db7-eace-2427b61a9883"
      },
      "outputs": [
        {
          "data": {
            "text/plain": [
              "Item_Identifier                 0\n",
              "Item_Fat_Content                0\n",
              "Item_Visibility                 0\n",
              "Item_Type                       0\n",
              "Item_MRP                        0\n",
              "Outlet_Identifier               0\n",
              "Outlet_Establishment_Year       0\n",
              "Outlet_Size                  2410\n",
              "Outlet_Location_Type            0\n",
              "Outlet_Type                     0\n",
              "Item_Outlet_Sales               0\n",
              "Item_Weight_Interpolate         0\n",
              "dtype: int64"
            ]
          },
          "execution_count": 55,
          "metadata": {},
          "output_type": "execute_result"
        }
      ],
      "source": [
        "dataset.isnull().sum()"
      ]
    },
    {
      "cell_type": "markdown",
      "metadata": {
        "id": "6e1z_FlfkgRs"
      },
      "source": [
        "### Outlet Size"
      ]
    },
    {
      "cell_type": "code",
      "execution_count": null,
      "metadata": {
        "id": "edmamGD2kgRs",
        "outputId": "e3773816-f0b7-49c1-8426-2b04e9ebed81"
      },
      "outputs": [
        {
          "data": {
            "text/plain": [
              "Outlet_Size\n",
              "Medium    2793\n",
              "Small     2388\n",
              "High       932\n",
              "Name: count, dtype: int64"
            ]
          },
          "execution_count": 65,
          "metadata": {},
          "output_type": "execute_result"
        }
      ],
      "source": [
        "dataset['Outlet_Size'].value_counts()"
      ]
    },
    {
      "cell_type": "code",
      "execution_count": null,
      "metadata": {
        "id": "OkrkgdBRkgRs",
        "outputId": "bc89c391-510b-4523-d63e-67c328663335"
      },
      "outputs": [
        {
          "data": {
            "text/plain": [
              "Outlet_Type\n",
              "Supermarket Type1    5577\n",
              "Grocery Store        1083\n",
              "Supermarket Type3     935\n",
              "Supermarket Type2     928\n",
              "Name: count, dtype: int64"
            ]
          },
          "execution_count": 66,
          "metadata": {},
          "output_type": "execute_result"
        }
      ],
      "source": [
        "dataset['Outlet_Type'].value_counts()"
      ]
    },
    {
      "cell_type": "code",
      "execution_count": null,
      "metadata": {
        "id": "qeCjgS61kgRs"
      },
      "outputs": [],
      "source": [
        "#Outlet size relates with Outlet_type. So, let us fill na values of outlet_size using its relation with outlets_type\n",
        "mode_outlet=dataset.pivot_table(values='Outlet_Size',columns='Outlet_Type',aggfunc=(lambda x:x.mode()[0]))"
      ]
    },
    {
      "cell_type": "code",
      "execution_count": null,
      "metadata": {
        "id": "1phWmFRekgRs",
        "outputId": "0ad5e101-f05b-4d26-b9ba-bdfb90644aa1"
      },
      "outputs": [
        {
          "data": {
            "text/html": [
              "<div>\n",
              "<style scoped>\n",
              "    .dataframe tbody tr th:only-of-type {\n",
              "        vertical-align: middle;\n",
              "    }\n",
              "\n",
              "    .dataframe tbody tr th {\n",
              "        vertical-align: top;\n",
              "    }\n",
              "\n",
              "    .dataframe thead th {\n",
              "        text-align: right;\n",
              "    }\n",
              "</style>\n",
              "<table border=\"1\" class=\"dataframe\">\n",
              "  <thead>\n",
              "    <tr style=\"text-align: right;\">\n",
              "      <th>Outlet_Type</th>\n",
              "      <th>Grocery Store</th>\n",
              "      <th>Supermarket Type1</th>\n",
              "      <th>Supermarket Type2</th>\n",
              "      <th>Supermarket Type3</th>\n",
              "    </tr>\n",
              "  </thead>\n",
              "  <tbody>\n",
              "    <tr>\n",
              "      <th>Outlet_Size</th>\n",
              "      <td>Small</td>\n",
              "      <td>Small</td>\n",
              "      <td>Medium</td>\n",
              "      <td>Medium</td>\n",
              "    </tr>\n",
              "  </tbody>\n",
              "</table>\n",
              "</div>"
            ],
            "text/plain": [
              "Outlet_Type Grocery Store Supermarket Type1 Supermarket Type2  \\\n",
              "Outlet_Size         Small             Small            Medium   \n",
              "\n",
              "Outlet_Type Supermarket Type3  \n",
              "Outlet_Size            Medium  "
            ]
          },
          "execution_count": 69,
          "metadata": {},
          "output_type": "execute_result"
        }
      ],
      "source": [
        "mode_outlet"
      ]
    },
    {
      "cell_type": "code",
      "execution_count": null,
      "metadata": {
        "id": "bqsbXkNZkgRt",
        "outputId": "2afa80ca-1c77-472d-9d8a-3bd665747941"
      },
      "outputs": [
        {
          "data": {
            "text/plain": [
              "0       False\n",
              "1       False\n",
              "2       False\n",
              "3        True\n",
              "4       False\n",
              "        ...  \n",
              "8518    False\n",
              "8519     True\n",
              "8520    False\n",
              "8521    False\n",
              "8522    False\n",
              "Name: Outlet_Size, Length: 8523, dtype: bool"
            ]
          },
          "execution_count": 71,
          "metadata": {},
          "output_type": "execute_result"
        }
      ],
      "source": [
        "missing_values=dataset['Outlet_Size'].isnull()\n",
        "missing_values"
      ]
    },
    {
      "cell_type": "code",
      "execution_count": null,
      "metadata": {
        "id": "_AN7hyIUkgRt"
      },
      "outputs": [],
      "source": [
        "dataset.loc[missing_values,'Outlet_Size'] = dataset.loc[missing_values,'Outlet_Type'].apply(lambda x:mode_outlet[x])"
      ]
    },
    {
      "cell_type": "code",
      "execution_count": null,
      "metadata": {
        "id": "Mo7UVObJkgRt",
        "outputId": "889a43a6-7272-42c2-d4e3-92a15f02c3fb"
      },
      "outputs": [
        {
          "data": {
            "text/plain": [
              "Item_Identifier              0\n",
              "Item_Fat_Content             0\n",
              "Item_Visibility              0\n",
              "Item_Type                    0\n",
              "Item_MRP                     0\n",
              "Outlet_Identifier            0\n",
              "Outlet_Establishment_Year    0\n",
              "Outlet_Size                  0\n",
              "Outlet_Location_Type         0\n",
              "Outlet_Type                  0\n",
              "Item_Outlet_Sales            0\n",
              "Item_Weight_Interpolate      0\n",
              "dtype: int64"
            ]
          },
          "execution_count": 75,
          "metadata": {},
          "output_type": "execute_result"
        }
      ],
      "source": [
        "dataset.isnull().sum()"
      ]
    },
    {
      "cell_type": "code",
      "execution_count": null,
      "metadata": {
        "id": "JhJ4AA2zkgRt",
        "outputId": "14b8bf6a-9dc3-44bb-bb57-d01214ea5c3d"
      },
      "outputs": [
        {
          "data": {
            "text/html": [
              "<div>\n",
              "<style scoped>\n",
              "    .dataframe tbody tr th:only-of-type {\n",
              "        vertical-align: middle;\n",
              "    }\n",
              "\n",
              "    .dataframe tbody tr th {\n",
              "        vertical-align: top;\n",
              "    }\n",
              "\n",
              "    .dataframe thead th {\n",
              "        text-align: right;\n",
              "    }\n",
              "</style>\n",
              "<table border=\"1\" class=\"dataframe\">\n",
              "  <thead>\n",
              "    <tr style=\"text-align: right;\">\n",
              "      <th></th>\n",
              "      <th>Item_Identifier</th>\n",
              "      <th>Item_Fat_Content</th>\n",
              "      <th>Item_Visibility</th>\n",
              "      <th>Item_Type</th>\n",
              "      <th>Item_MRP</th>\n",
              "      <th>Outlet_Identifier</th>\n",
              "      <th>Outlet_Establishment_Year</th>\n",
              "      <th>Outlet_Size</th>\n",
              "      <th>Outlet_Location_Type</th>\n",
              "      <th>Outlet_Type</th>\n",
              "      <th>Item_Outlet_Sales</th>\n",
              "      <th>Item_Weight_Interpolate</th>\n",
              "    </tr>\n",
              "  </thead>\n",
              "  <tbody>\n",
              "    <tr>\n",
              "      <th>0</th>\n",
              "      <td>FDA15</td>\n",
              "      <td>Low Fat</td>\n",
              "      <td>0.016047</td>\n",
              "      <td>Dairy</td>\n",
              "      <td>249.8092</td>\n",
              "      <td>OUT049</td>\n",
              "      <td>1999</td>\n",
              "      <td>Medium</td>\n",
              "      <td>Tier 1</td>\n",
              "      <td>Supermarket Type1</td>\n",
              "      <td>3735.138</td>\n",
              "      <td>9.3</td>\n",
              "    </tr>\n",
              "  </tbody>\n",
              "</table>\n",
              "</div>"
            ],
            "text/plain": [
              "  Item_Identifier Item_Fat_Content  Item_Visibility Item_Type  Item_MRP  \\\n",
              "0           FDA15          Low Fat         0.016047     Dairy  249.8092   \n",
              "\n",
              "  Outlet_Identifier  Outlet_Establishment_Year Outlet_Size  \\\n",
              "0            OUT049                       1999      Medium   \n",
              "\n",
              "  Outlet_Location_Type        Outlet_Type  Item_Outlet_Sales  \\\n",
              "0               Tier 1  Supermarket Type1           3735.138   \n",
              "\n",
              "   Item_Weight_Interpolate  \n",
              "0                      9.3  "
            ]
          },
          "execution_count": 77,
          "metadata": {},
          "output_type": "execute_result"
        }
      ],
      "source": [
        "dataset.head(1)"
      ]
    },
    {
      "cell_type": "markdown",
      "metadata": {
        "id": "U7MsSGN9kgRu"
      },
      "source": [
        "### Item_Fat_Content"
      ]
    },
    {
      "cell_type": "code",
      "execution_count": null,
      "metadata": {
        "id": "qPWpy_SLkgRu",
        "outputId": "21ee7bff-898d-4564-ecfc-b7b78951aec0"
      },
      "outputs": [
        {
          "data": {
            "text/plain": [
              "Index(['Item_Identifier', 'Item_Fat_Content', 'Item_Visibility', 'Item_Type',\n",
              "       'Item_MRP', 'Outlet_Identifier', 'Outlet_Establishment_Year',\n",
              "       'Outlet_Size', 'Outlet_Location_Type', 'Outlet_Type',\n",
              "       'Item_Outlet_Sales', 'Item_Weight_Interpolate'],\n",
              "      dtype='object')"
            ]
          },
          "execution_count": 79,
          "metadata": {},
          "output_type": "execute_result"
        }
      ],
      "source": [
        "dataset.columns"
      ]
    },
    {
      "cell_type": "code",
      "execution_count": null,
      "metadata": {
        "id": "ozeFdpAbkgRu",
        "outputId": "64b44f93-c687-46c4-9899-a1771ee4b0fe"
      },
      "outputs": [
        {
          "data": {
            "text/plain": [
              "Item_Fat_Content\n",
              "Low Fat    5089\n",
              "Regular    2889\n",
              "LF          316\n",
              "reg         117\n",
              "low fat     112\n",
              "Name: count, dtype: int64"
            ]
          },
          "execution_count": 81,
          "metadata": {},
          "output_type": "execute_result"
        }
      ],
      "source": [
        "dataset['Item_Fat_Content'].value_counts()\n",
        "#Values are irregular. Let us change them to 2 types LF, Regular using python"
      ]
    },
    {
      "cell_type": "code",
      "execution_count": null,
      "metadata": {
        "id": "w4Nu2QxTkgRu"
      },
      "outputs": [],
      "source": [
        "dataset.replace({'Item_Fat_Content':{'Low Fat':'LF', 'low fat':'LF', 'reg': 'Regular'}}, inplace=True)"
      ]
    },
    {
      "cell_type": "code",
      "execution_count": null,
      "metadata": {
        "id": "Y8Ai-BmWkgRu",
        "outputId": "dce4cf80-a57b-425a-c005-9dffe42a7d2e"
      },
      "outputs": [
        {
          "data": {
            "text/plain": [
              "Item_Fat_Content\n",
              "LF         5517\n",
              "Regular    3006\n",
              "Name: count, dtype: int64"
            ]
          },
          "execution_count": 84,
          "metadata": {},
          "output_type": "execute_result"
        }
      ],
      "source": [
        "dataset['Item_Fat_Content'].value_counts()\n"
      ]
    },
    {
      "cell_type": "markdown",
      "metadata": {
        "id": "xs3563MxkgRu"
      },
      "source": [
        "### Item Visibility"
      ]
    },
    {
      "cell_type": "code",
      "execution_count": null,
      "metadata": {
        "id": "vGixJQi8kgRu",
        "outputId": "9cd97c75-1e79-474e-c550-03a0b22db101"
      },
      "outputs": [
        {
          "data": {
            "text/plain": [
              "Index(['Item_Identifier', 'Item_Fat_Content', 'Item_Visibility', 'Item_Type',\n",
              "       'Item_MRP', 'Outlet_Identifier', 'Outlet_Establishment_Year',\n",
              "       'Outlet_Size', 'Outlet_Location_Type', 'Outlet_Type',\n",
              "       'Item_Outlet_Sales', 'Item_Weight_Interpolate'],\n",
              "      dtype='object')"
            ]
          },
          "execution_count": 89,
          "metadata": {},
          "output_type": "execute_result"
        }
      ],
      "source": [
        "dataset.columns"
      ]
    },
    {
      "cell_type": "code",
      "execution_count": null,
      "metadata": {
        "id": "JiDDHW1skgRu",
        "outputId": "cae44638-a8a6-4cb6-ee9b-68c51c3fc55f"
      },
      "outputs": [
        {
          "data": {
            "text/plain": [
              "Item_Visibility\n",
              "0.000000    526\n",
              "0.076975      3\n",
              "0.162462      2\n",
              "0.076841      2\n",
              "0.073562      2\n",
              "           ... \n",
              "0.013957      1\n",
              "0.110460      1\n",
              "0.124646      1\n",
              "0.054142      1\n",
              "0.044878      1\n",
              "Name: count, Length: 7880, dtype: int64"
            ]
          },
          "execution_count": 90,
          "metadata": {},
          "output_type": "execute_result"
        }
      ],
      "source": [
        "dataset['Item_Visibility'].value_counts()\n",
        "#Llots of zeros. Could be missing values. replace them with nan and interpolate to fill those nans with good fit values"
      ]
    },
    {
      "cell_type": "code",
      "execution_count": null,
      "metadata": {
        "id": "ExcaQiM5kgRu"
      },
      "outputs": [],
      "source": [
        "dataset['Item_Visibility_interpolate']=dataset['Item_Visibility'].replace(0,np.nan).interpolate(method='linear')"
      ]
    },
    {
      "cell_type": "code",
      "execution_count": null,
      "metadata": {
        "id": "FN0Rq994kgRv",
        "outputId": "b1bce94e-9723-401e-ac50-0cd9a8ec8f10"
      },
      "outputs": [
        {
          "data": {
            "text/plain": [
              "Item_Visibility_interpolate\n",
              "0.076975    3\n",
              "0.044024    2\n",
              "0.040912    2\n",
              "0.076856    2\n",
              "0.078759    2\n",
              "           ..\n",
              "0.021011    1\n",
              "0.099189    1\n",
              "0.076866    1\n",
              "0.014116    1\n",
              "0.044878    1\n",
              "Name: count, Length: 8405, dtype: int64"
            ]
          },
          "execution_count": 96,
          "metadata": {},
          "output_type": "execute_result"
        }
      ],
      "source": [
        "dataset['Item_Visibility_interpolate'].value_counts()"
      ]
    },
    {
      "cell_type": "code",
      "execution_count": null,
      "metadata": {
        "id": "2RE_EgUqkgRv"
      },
      "outputs": [],
      "source": [
        "dataset=dataset.drop('Item_Visibility',axis=1)"
      ]
    },
    {
      "cell_type": "markdown",
      "metadata": {
        "id": "rvnax5pRkgRv"
      },
      "source": [
        "### Item Type"
      ]
    },
    {
      "cell_type": "code",
      "execution_count": null,
      "metadata": {
        "id": "a2Oi2lzMkgRv",
        "outputId": "2f376870-0846-4104-dc7c-e3c40ffbac9a"
      },
      "outputs": [
        {
          "data": {
            "text/plain": [
              "Index(['Item_Identifier', 'Item_Fat_Content', 'Item_Type', 'Item_MRP',\n",
              "       'Outlet_Identifier', 'Outlet_Establishment_Year', 'Outlet_Size',\n",
              "       'Outlet_Location_Type', 'Outlet_Type', 'Item_Outlet_Sales',\n",
              "       'Item_Weight_Interpolate', 'Item_Visibility_interpolate'],\n",
              "      dtype='object')"
            ]
          },
          "execution_count": 101,
          "metadata": {},
          "output_type": "execute_result"
        }
      ],
      "source": [
        "dataset.columns"
      ]
    },
    {
      "cell_type": "code",
      "execution_count": null,
      "metadata": {
        "id": "_Q37WdrSkgRv",
        "outputId": "42be66c8-08d6-4836-ae5e-49db423abad4"
      },
      "outputs": [
        {
          "data": {
            "text/plain": [
              "Item_Type\n",
              "Fruits and Vegetables    1232\n",
              "Snack Foods              1200\n",
              "Household                 910\n",
              "Frozen Foods              856\n",
              "Dairy                     682\n",
              "Canned                    649\n",
              "Baking Goods              648\n",
              "Health and Hygiene        520\n",
              "Soft Drinks               445\n",
              "Meat                      425\n",
              "Breads                    251\n",
              "Hard Drinks               214\n",
              "Others                    169\n",
              "Starchy Foods             148\n",
              "Breakfast                 110\n",
              "Seafood                    64\n",
              "Name: count, dtype: int64"
            ]
          },
          "execution_count": 103,
          "metadata": {},
          "output_type": "execute_result"
        }
      ],
      "source": [
        "dataset['Item_Type'].value_counts()"
      ]
    },
    {
      "cell_type": "markdown",
      "metadata": {
        "id": "NSdlSKLvkgRv"
      },
      "source": [
        "### Item_Identifier"
      ]
    },
    {
      "cell_type": "code",
      "execution_count": null,
      "metadata": {
        "id": "FgQv83IpkgRv",
        "outputId": "5d2bdbeb-2522-4c7f-9718-4592401ca7e7"
      },
      "outputs": [
        {
          "data": {
            "text/plain": [
              "Index(['Item_Identifier', 'Item_Fat_Content', 'Item_Type', 'Item_MRP',\n",
              "       'Outlet_Identifier', 'Outlet_Establishment_Year', 'Outlet_Size',\n",
              "       'Outlet_Location_Type', 'Outlet_Type', 'Item_Outlet_Sales',\n",
              "       'Item_Weight_Interpolate', 'Item_Visibility_interpolate'],\n",
              "      dtype='object')"
            ]
          },
          "execution_count": 105,
          "metadata": {},
          "output_type": "execute_result"
        }
      ],
      "source": [
        "dataset.columns"
      ]
    },
    {
      "cell_type": "code",
      "execution_count": null,
      "metadata": {
        "id": "65dTPpKnkgRv",
        "outputId": "e584b36e-e59f-40ee-d15d-5ad56033280a"
      },
      "outputs": [
        {
          "data": {
            "text/plain": [
              "Item_Identifier\n",
              "FDW13    10\n",
              "FDG33    10\n",
              "NCY18     9\n",
              "FDD38     9\n",
              "DRE49     9\n",
              "         ..\n",
              "FDY43     1\n",
              "FDQ60     1\n",
              "FDO33     1\n",
              "DRF48     1\n",
              "FDC23     1\n",
              "Name: count, Length: 1559, dtype: int64"
            ]
          },
          "execution_count": 106,
          "metadata": {},
          "output_type": "execute_result"
        }
      ],
      "source": [
        "dataset['Item_Identifier'].value_counts()\n",
        "#All items start with FD, NC, DR could be food, drinks and non consumeables. Short them down"
      ]
    },
    {
      "cell_type": "code",
      "execution_count": null,
      "metadata": {
        "id": "GQGpdkJJkgRw"
      },
      "outputs": [],
      "source": [
        "dataset['Item_Identifier']=dataset['Item_Identifier'].apply(lambda x:x[:2])"
      ]
    },
    {
      "cell_type": "code",
      "execution_count": null,
      "metadata": {
        "id": "y-XnaqsQkgRw",
        "outputId": "fb9ce9ef-8d60-40b5-9e40-e17ddfc7558e"
      },
      "outputs": [
        {
          "data": {
            "text/plain": [
              "Item_Identifier\n",
              "FD    6125\n",
              "NC    1599\n",
              "DR     799\n",
              "Name: count, dtype: int64"
            ]
          },
          "execution_count": 108,
          "metadata": {},
          "output_type": "execute_result"
        }
      ],
      "source": [
        "dataset['Item_Identifier'].value_counts()"
      ]
    },
    {
      "cell_type": "markdown",
      "metadata": {
        "id": "L7g_IwhtkgRw"
      },
      "source": [
        "### Outlet_Establishment_Year"
      ]
    },
    {
      "cell_type": "code",
      "execution_count": null,
      "metadata": {
        "id": "9qw5HXafkgRw",
        "outputId": "036b5400-1c91-4f46-d469-4cc3fea7a6e3"
      },
      "outputs": [
        {
          "data": {
            "text/plain": [
              "Index(['Item_Identifier', 'Item_Fat_Content', 'Item_Type', 'Item_MRP',\n",
              "       'Outlet_Identifier', 'Outlet_Establishment_Year', 'Outlet_Size',\n",
              "       'Outlet_Location_Type', 'Outlet_Type', 'Item_Outlet_Sales',\n",
              "       'Item_Weight_Interpolate', 'Item_Visibility_interpolate'],\n",
              "      dtype='object')"
            ]
          },
          "execution_count": 112,
          "metadata": {},
          "output_type": "execute_result"
        }
      ],
      "source": [
        "dataset.columns"
      ]
    },
    {
      "cell_type": "code",
      "execution_count": null,
      "metadata": {
        "id": "F7QYJ62pkgRw",
        "outputId": "a14756b5-693a-4ca9-d826-34090dcfb241"
      },
      "outputs": [
        {
          "data": {
            "text/plain": [
              "Outlet_Establishment_Year\n",
              "1985    1463\n",
              "1987     932\n",
              "1999     930\n",
              "1997     930\n",
              "2004     930\n",
              "2002     929\n",
              "2009     928\n",
              "2007     926\n",
              "1998     555\n",
              "Name: count, dtype: int64"
            ]
          },
          "execution_count": 113,
          "metadata": {},
          "output_type": "execute_result"
        }
      ],
      "source": [
        "dataset['Outlet_Establishment_Year'].value_counts()"
      ]
    },
    {
      "cell_type": "code",
      "execution_count": null,
      "metadata": {
        "id": "K4xex12SkgRw"
      },
      "outputs": [],
      "source": [
        "#These are years, could make much difference on encoding. So, let us cut them to the age from the current year\n",
        "import datetime as dt"
      ]
    },
    {
      "cell_type": "code",
      "execution_count": null,
      "metadata": {
        "id": "zKB_kUKKkgRw",
        "outputId": "6ceba978-8321-4abc-8eb6-02aaf6d15ca7"
      },
      "outputs": [
        {
          "data": {
            "text/plain": [
              "2023"
            ]
          },
          "execution_count": 116,
          "metadata": {},
          "output_type": "execute_result"
        }
      ],
      "source": [
        "current_year=dt.datetime.today().year\n",
        "current_year"
      ]
    },
    {
      "cell_type": "code",
      "execution_count": null,
      "metadata": {
        "id": "yJdOeW_ckgRw"
      },
      "outputs": [],
      "source": [
        "dataset['Outlet_Age']=current_year-dataset['Outlet_Establishment_Year']"
      ]
    },
    {
      "cell_type": "code",
      "execution_count": null,
      "metadata": {
        "id": "e9J8lDb4kgRw",
        "outputId": "be957948-42ce-4960-8f0c-6dc4cf8c6b2a"
      },
      "outputs": [
        {
          "data": {
            "text/html": [
              "<div>\n",
              "<style scoped>\n",
              "    .dataframe tbody tr th:only-of-type {\n",
              "        vertical-align: middle;\n",
              "    }\n",
              "\n",
              "    .dataframe tbody tr th {\n",
              "        vertical-align: top;\n",
              "    }\n",
              "\n",
              "    .dataframe thead th {\n",
              "        text-align: right;\n",
              "    }\n",
              "</style>\n",
              "<table border=\"1\" class=\"dataframe\">\n",
              "  <thead>\n",
              "    <tr style=\"text-align: right;\">\n",
              "      <th></th>\n",
              "      <th>Item_Identifier</th>\n",
              "      <th>Item_Fat_Content</th>\n",
              "      <th>Item_Type</th>\n",
              "      <th>Item_MRP</th>\n",
              "      <th>Outlet_Identifier</th>\n",
              "      <th>Outlet_Establishment_Year</th>\n",
              "      <th>Outlet_Size</th>\n",
              "      <th>Outlet_Location_Type</th>\n",
              "      <th>Outlet_Type</th>\n",
              "      <th>Item_Outlet_Sales</th>\n",
              "      <th>Item_Weight_Interpolate</th>\n",
              "      <th>Item_Visibility_interpolate</th>\n",
              "      <th>Outlet_Age</th>\n",
              "    </tr>\n",
              "  </thead>\n",
              "  <tbody>\n",
              "    <tr>\n",
              "      <th>0</th>\n",
              "      <td>FD</td>\n",
              "      <td>LF</td>\n",
              "      <td>Dairy</td>\n",
              "      <td>249.8092</td>\n",
              "      <td>OUT049</td>\n",
              "      <td>1999</td>\n",
              "      <td>Medium</td>\n",
              "      <td>Tier 1</td>\n",
              "      <td>Supermarket Type1</td>\n",
              "      <td>3735.138</td>\n",
              "      <td>9.3</td>\n",
              "      <td>0.016047</td>\n",
              "      <td>24</td>\n",
              "    </tr>\n",
              "  </tbody>\n",
              "</table>\n",
              "</div>"
            ],
            "text/plain": [
              "  Item_Identifier Item_Fat_Content Item_Type  Item_MRP Outlet_Identifier  \\\n",
              "0              FD               LF     Dairy  249.8092            OUT049   \n",
              "\n",
              "   Outlet_Establishment_Year Outlet_Size Outlet_Location_Type  \\\n",
              "0                       1999      Medium               Tier 1   \n",
              "\n",
              "         Outlet_Type  Item_Outlet_Sales  Item_Weight_Interpolate  \\\n",
              "0  Supermarket Type1           3735.138                      9.3   \n",
              "\n",
              "   Item_Visibility_interpolate  Outlet_Age  \n",
              "0                     0.016047          24  "
            ]
          },
          "execution_count": 119,
          "metadata": {},
          "output_type": "execute_result"
        }
      ],
      "source": [
        "dataset.head(1)"
      ]
    },
    {
      "cell_type": "code",
      "execution_count": null,
      "metadata": {
        "id": "08_P_deWkgRx",
        "outputId": "0bae9a60-bf2b-465c-bf5a-df612127014b"
      },
      "outputs": [
        {
          "data": {
            "text/html": [
              "<div>\n",
              "<style scoped>\n",
              "    .dataframe tbody tr th:only-of-type {\n",
              "        vertical-align: middle;\n",
              "    }\n",
              "\n",
              "    .dataframe tbody tr th {\n",
              "        vertical-align: top;\n",
              "    }\n",
              "\n",
              "    .dataframe thead th {\n",
              "        text-align: right;\n",
              "    }\n",
              "</style>\n",
              "<table border=\"1\" class=\"dataframe\">\n",
              "  <thead>\n",
              "    <tr style=\"text-align: right;\">\n",
              "      <th></th>\n",
              "      <th>Item_Identifier</th>\n",
              "      <th>Item_Fat_Content</th>\n",
              "      <th>Item_Type</th>\n",
              "      <th>Item_MRP</th>\n",
              "      <th>Outlet_Identifier</th>\n",
              "      <th>Outlet_Size</th>\n",
              "      <th>Outlet_Location_Type</th>\n",
              "      <th>Outlet_Type</th>\n",
              "      <th>Item_Outlet_Sales</th>\n",
              "      <th>Item_Weight_Interpolate</th>\n",
              "      <th>Item_Visibility_interpolate</th>\n",
              "      <th>Outlet_Age</th>\n",
              "    </tr>\n",
              "  </thead>\n",
              "  <tbody>\n",
              "    <tr>\n",
              "      <th>0</th>\n",
              "      <td>FD</td>\n",
              "      <td>LF</td>\n",
              "      <td>Dairy</td>\n",
              "      <td>249.8092</td>\n",
              "      <td>OUT049</td>\n",
              "      <td>Medium</td>\n",
              "      <td>Tier 1</td>\n",
              "      <td>Supermarket Type1</td>\n",
              "      <td>3735.138</td>\n",
              "      <td>9.3</td>\n",
              "      <td>0.016047</td>\n",
              "      <td>24</td>\n",
              "    </tr>\n",
              "  </tbody>\n",
              "</table>\n",
              "</div>"
            ],
            "text/plain": [
              "  Item_Identifier Item_Fat_Content Item_Type  Item_MRP Outlet_Identifier  \\\n",
              "0              FD               LF     Dairy  249.8092            OUT049   \n",
              "\n",
              "  Outlet_Size Outlet_Location_Type        Outlet_Type  Item_Outlet_Sales  \\\n",
              "0      Medium               Tier 1  Supermarket Type1           3735.138   \n",
              "\n",
              "   Item_Weight_Interpolate  Item_Visibility_interpolate  Outlet_Age  \n",
              "0                      9.3                     0.016047          24  "
            ]
          },
          "execution_count": 120,
          "metadata": {},
          "output_type": "execute_result"
        }
      ],
      "source": [
        "dataset=dataset.drop('Outlet_Establishment_Year',axis=1)\n",
        "dataset.head(1)"
      ]
    },
    {
      "cell_type": "markdown",
      "metadata": {
        "id": "FFxxudBAkgRx"
      },
      "source": [
        "### Handling Categorical Columns"
      ]
    },
    {
      "cell_type": "code",
      "execution_count": null,
      "metadata": {
        "id": "_8d56ZgtkgRx",
        "outputId": "01558135-1551-44dd-d233-7b84d699da85"
      },
      "outputs": [
        {
          "name": "stdout",
          "output_type": "stream",
          "text": [
            "[array(['DR', 'FD', 'NC'], dtype=object)]\n",
            "[array(['LF', 'Regular'], dtype=object)]\n",
            "[array(['Baking Goods', 'Breads', 'Breakfast', 'Canned', 'Dairy',\n",
            "       'Frozen Foods', 'Fruits and Vegetables', 'Hard Drinks',\n",
            "       'Health and Hygiene', 'Household', 'Meat', 'Others', 'Seafood',\n",
            "       'Snack Foods', 'Soft Drinks', 'Starchy Foods'], dtype=object)]\n",
            "[array(['OUT010', 'OUT013', 'OUT017', 'OUT018', 'OUT019', 'OUT027',\n",
            "       'OUT035', 'OUT045', 'OUT046', 'OUT049'], dtype=object)]\n",
            "[array(['High', 'Medium', 'Small'], dtype=object)]\n",
            "[array(['Tier 1', 'Tier 2', 'Tier 3'], dtype=object)]\n",
            "[array(['Grocery Store', 'Supermarket Type1', 'Supermarket Type2',\n",
            "       'Supermarket Type3'], dtype=object)]\n"
          ]
        }
      ],
      "source": [
        "#For handling dependent (Prediction class Y values), we use one hot encoder,\n",
        "#but since we have independent categorical values here, we need to use OrdinalEncoder\n",
        "\n",
        "from sklearn.preprocessing import OrdinalEncoder\n",
        "data_encoded = dataset.copy()\n",
        "categorical_cols=dataset.select_dtypes(include=['object'])\n",
        "for col in categorical_cols:\n",
        "    ord_enc = OrdinalEncoder()\n",
        "    data_encoded[col]=ord_enc.fit_transform(data_encoded[[col]])\n",
        "    print(ord_enc.categories_)\n",
        ""
      ]
    },
    {
      "cell_type": "code",
      "execution_count": null,
      "metadata": {
        "id": "5G0-9W4pkgRx",
        "outputId": "58a33d82-aabb-43ed-b04f-152a945673a8"
      },
      "outputs": [
        {
          "data": {
            "text/html": [
              "<div>\n",
              "<style scoped>\n",
              "    .dataframe tbody tr th:only-of-type {\n",
              "        vertical-align: middle;\n",
              "    }\n",
              "\n",
              "    .dataframe tbody tr th {\n",
              "        vertical-align: top;\n",
              "    }\n",
              "\n",
              "    .dataframe thead th {\n",
              "        text-align: right;\n",
              "    }\n",
              "</style>\n",
              "<table border=\"1\" class=\"dataframe\">\n",
              "  <thead>\n",
              "    <tr style=\"text-align: right;\">\n",
              "      <th></th>\n",
              "      <th>Item_Identifier</th>\n",
              "      <th>Item_Fat_Content</th>\n",
              "      <th>Item_Type</th>\n",
              "      <th>Item_MRP</th>\n",
              "      <th>Outlet_Identifier</th>\n",
              "      <th>Outlet_Size</th>\n",
              "      <th>Outlet_Location_Type</th>\n",
              "      <th>Outlet_Type</th>\n",
              "      <th>Item_Outlet_Sales</th>\n",
              "      <th>Item_Weight_Interpolate</th>\n",
              "      <th>Item_Visibility_interpolate</th>\n",
              "      <th>Outlet_Age</th>\n",
              "    </tr>\n",
              "  </thead>\n",
              "  <tbody>\n",
              "    <tr>\n",
              "      <th>0</th>\n",
              "      <td>1.0</td>\n",
              "      <td>0.0</td>\n",
              "      <td>4.0</td>\n",
              "      <td>249.8092</td>\n",
              "      <td>9.0</td>\n",
              "      <td>1.0</td>\n",
              "      <td>0.0</td>\n",
              "      <td>1.0</td>\n",
              "      <td>3735.138</td>\n",
              "      <td>9.3</td>\n",
              "      <td>0.016047</td>\n",
              "      <td>24</td>\n",
              "    </tr>\n",
              "  </tbody>\n",
              "</table>\n",
              "</div>"
            ],
            "text/plain": [
              "   Item_Identifier  Item_Fat_Content  Item_Type  Item_MRP  Outlet_Identifier  \\\n",
              "0              1.0               0.0        4.0  249.8092                9.0   \n",
              "\n",
              "   Outlet_Size  Outlet_Location_Type  Outlet_Type  Item_Outlet_Sales  \\\n",
              "0          1.0                   0.0          1.0           3735.138   \n",
              "\n",
              "   Item_Weight_Interpolate  Item_Visibility_interpolate  Outlet_Age  \n",
              "0                      9.3                     0.016047          24  "
            ]
          },
          "execution_count": 122,
          "metadata": {},
          "output_type": "execute_result"
        }
      ],
      "source": [
        "data_encoded.head(1)"
      ]
    },
    {
      "cell_type": "code",
      "execution_count": null,
      "metadata": {
        "id": "r2FTOwCckgRx"
      },
      "outputs": [],
      "source": [
        "#Splitting the trainset data into classes X and y\n",
        "X=data_encoded.drop('Item_Outlet_Sales',axis=1)\n",
        "y=data_encoded['Item_Outlet_Sales']"
      ]
    },
    {
      "cell_type": "code",
      "execution_count": null,
      "metadata": {
        "id": "z0PQUlfUkgRx",
        "outputId": "0ac258c9-3151-411e-97d5-cf8853ae7ed8"
      },
      "outputs": [
        {
          "data": {
            "text/plain": [
              "(8523, 11)"
            ]
          },
          "execution_count": 126,
          "metadata": {},
          "output_type": "execute_result"
        }
      ],
      "source": [
        "X.shape"
      ]
    },
    {
      "cell_type": "code",
      "execution_count": null,
      "metadata": {
        "id": "DJmqI4tOkgRx",
        "outputId": "863ccc30-da23-4f5c-a6ca-33bc5cdc2b33"
      },
      "outputs": [
        {
          "data": {
            "text/plain": [
              "(8523,)"
            ]
          },
          "execution_count": 127,
          "metadata": {},
          "output_type": "execute_result"
        }
      ],
      "source": [
        "y.shape"
      ]
    },
    {
      "cell_type": "code",
      "execution_count": null,
      "metadata": {
        "id": "61MiZOpEkgRx",
        "outputId": "373ef7f4-e523-4aa2-aa9a-3bca4f298f80"
      },
      "outputs": [
        {
          "data": {
            "text/html": [
              "<div>\n",
              "<style scoped>\n",
              "    .dataframe tbody tr th:only-of-type {\n",
              "        vertical-align: middle;\n",
              "    }\n",
              "\n",
              "    .dataframe tbody tr th {\n",
              "        vertical-align: top;\n",
              "    }\n",
              "\n",
              "    .dataframe thead th {\n",
              "        text-align: right;\n",
              "    }\n",
              "</style>\n",
              "<table border=\"1\" class=\"dataframe\">\n",
              "  <thead>\n",
              "    <tr style=\"text-align: right;\">\n",
              "      <th></th>\n",
              "      <th>Item_Identifier</th>\n",
              "      <th>Item_Fat_Content</th>\n",
              "      <th>Item_Type</th>\n",
              "      <th>Item_MRP</th>\n",
              "      <th>Outlet_Identifier</th>\n",
              "      <th>Outlet_Size</th>\n",
              "      <th>Outlet_Location_Type</th>\n",
              "      <th>Outlet_Type</th>\n",
              "      <th>Item_Weight_Interpolate</th>\n",
              "      <th>Item_Visibility_interpolate</th>\n",
              "      <th>Outlet_Age</th>\n",
              "    </tr>\n",
              "  </thead>\n",
              "  <tbody>\n",
              "    <tr>\n",
              "      <th>0</th>\n",
              "      <td>1.0</td>\n",
              "      <td>0.0</td>\n",
              "      <td>4.0</td>\n",
              "      <td>249.8092</td>\n",
              "      <td>9.0</td>\n",
              "      <td>1.0</td>\n",
              "      <td>0.0</td>\n",
              "      <td>1.0</td>\n",
              "      <td>9.30</td>\n",
              "      <td>0.016047</td>\n",
              "      <td>24</td>\n",
              "    </tr>\n",
              "    <tr>\n",
              "      <th>1</th>\n",
              "      <td>0.0</td>\n",
              "      <td>1.0</td>\n",
              "      <td>14.0</td>\n",
              "      <td>48.2692</td>\n",
              "      <td>3.0</td>\n",
              "      <td>1.0</td>\n",
              "      <td>2.0</td>\n",
              "      <td>2.0</td>\n",
              "      <td>5.92</td>\n",
              "      <td>0.019278</td>\n",
              "      <td>14</td>\n",
              "    </tr>\n",
              "    <tr>\n",
              "      <th>2</th>\n",
              "      <td>1.0</td>\n",
              "      <td>0.0</td>\n",
              "      <td>10.0</td>\n",
              "      <td>141.6180</td>\n",
              "      <td>9.0</td>\n",
              "      <td>1.0</td>\n",
              "      <td>0.0</td>\n",
              "      <td>1.0</td>\n",
              "      <td>17.50</td>\n",
              "      <td>0.016760</td>\n",
              "      <td>24</td>\n",
              "    </tr>\n",
              "    <tr>\n",
              "      <th>3</th>\n",
              "      <td>1.0</td>\n",
              "      <td>1.0</td>\n",
              "      <td>6.0</td>\n",
              "      <td>182.0950</td>\n",
              "      <td>0.0</td>\n",
              "      <td>2.0</td>\n",
              "      <td>2.0</td>\n",
              "      <td>0.0</td>\n",
              "      <td>19.20</td>\n",
              "      <td>0.015755</td>\n",
              "      <td>25</td>\n",
              "    </tr>\n",
              "    <tr>\n",
              "      <th>4</th>\n",
              "      <td>2.0</td>\n",
              "      <td>0.0</td>\n",
              "      <td>9.0</td>\n",
              "      <td>53.8614</td>\n",
              "      <td>1.0</td>\n",
              "      <td>0.0</td>\n",
              "      <td>2.0</td>\n",
              "      <td>1.0</td>\n",
              "      <td>8.93</td>\n",
              "      <td>0.014751</td>\n",
              "      <td>36</td>\n",
              "    </tr>\n",
              "  </tbody>\n",
              "</table>\n",
              "</div>"
            ],
            "text/plain": [
              "   Item_Identifier  Item_Fat_Content  Item_Type  Item_MRP  Outlet_Identifier  \\\n",
              "0              1.0               0.0        4.0  249.8092                9.0   \n",
              "1              0.0               1.0       14.0   48.2692                3.0   \n",
              "2              1.0               0.0       10.0  141.6180                9.0   \n",
              "3              1.0               1.0        6.0  182.0950                0.0   \n",
              "4              2.0               0.0        9.0   53.8614                1.0   \n",
              "\n",
              "   Outlet_Size  Outlet_Location_Type  Outlet_Type  Item_Weight_Interpolate  \\\n",
              "0          1.0                   0.0          1.0                     9.30   \n",
              "1          1.0                   2.0          2.0                     5.92   \n",
              "2          1.0                   0.0          1.0                    17.50   \n",
              "3          2.0                   2.0          0.0                    19.20   \n",
              "4          0.0                   2.0          1.0                     8.93   \n",
              "\n",
              "   Item_Visibility_interpolate  Outlet_Age  \n",
              "0                     0.016047          24  \n",
              "1                     0.019278          14  \n",
              "2                     0.016760          24  \n",
              "3                     0.015755          25  \n",
              "4                     0.014751          36  "
            ]
          },
          "execution_count": 129,
          "metadata": {},
          "output_type": "execute_result"
        }
      ],
      "source": [
        "X.head(5)"
      ]
    },
    {
      "cell_type": "code",
      "execution_count": null,
      "metadata": {
        "id": "uOp7arHckgRx",
        "outputId": "32a0d9bb-b1be-488c-e97a-1ba0a83f7682"
      },
      "outputs": [
        {
          "data": {
            "text/plain": [
              "0    3735.1380\n",
              "1     443.4228\n",
              "2    2097.2700\n",
              "3     732.3800\n",
              "4     994.7052\n",
              "Name: Item_Outlet_Sales, dtype: float64"
            ]
          },
          "execution_count": 130,
          "metadata": {},
          "output_type": "execute_result"
        }
      ],
      "source": [
        "y.head(5)"
      ]
    },
    {
      "cell_type": "markdown",
      "metadata": {
        "id": "fFdcbBD-kgRy"
      },
      "source": [
        "### Random Forest Regressor"
      ]
    },
    {
      "cell_type": "code",
      "execution_count": null,
      "metadata": {
        "id": "xru4WpgLkgRy",
        "outputId": "ad84ccd5-fbad-40f3-c280-5ae4294968f2"
      },
      "outputs": [
        {
          "name": "stdout",
          "output_type": "stream",
          "text": [
            "0.5549992903957147\n"
          ]
        }
      ],
      "source": [
        "from sklearn.ensemble import RandomForestRegressor\n",
        "from sklearn.model_selection import cross_val_score\n",
        "rf=RandomForestRegressor(n_estimators=100,random_state=42)\n",
        "scores=cross_val_score(rf,X,y,cv=5,scoring='r2')\n",
        "print(scores.mean())"
      ]
    },
    {
      "cell_type": "markdown",
      "metadata": {
        "id": "WO_ZHb6wkgRy"
      },
      "source": [
        "### XGBRFRegressor"
      ]
    },
    {
      "cell_type": "code",
      "execution_count": null,
      "metadata": {
        "id": "MDxZAvAhkgRy",
        "outputId": "a5a5aea3-fd60-4522-936b-f5de904fc9b9"
      },
      "outputs": [
        {
          "name": "stdout",
          "output_type": "stream",
          "text": [
            "0.5954067732342189\n"
          ]
        }
      ],
      "source": [
        "from xgboost import XGBRFRegressor\n",
        "xg=XGBRFRegressor(n_estimators=100,random_state=42)\n",
        "scores=cross_val_score(xg,X,y,cv=5,scoring='r2')\n",
        "print(scores.mean())"
      ]
    },
    {
      "cell_type": "markdown",
      "metadata": {
        "id": "XOAOBXEpkgRy"
      },
      "source": [
        "### XGBRFRegressor Important features extraction"
      ]
    },
    {
      "cell_type": "code",
      "execution_count": null,
      "metadata": {
        "id": "yw2jAdW7kgRy",
        "outputId": "40b1d505-ff2a-4e54-b359-7920d62e8f8c"
      },
      "outputs": [
        {
          "data": {
            "text/html": [
              "<div>\n",
              "<style scoped>\n",
              "    .dataframe tbody tr th:only-of-type {\n",
              "        vertical-align: middle;\n",
              "    }\n",
              "\n",
              "    .dataframe tbody tr th {\n",
              "        vertical-align: top;\n",
              "    }\n",
              "\n",
              "    .dataframe thead th {\n",
              "        text-align: right;\n",
              "    }\n",
              "</style>\n",
              "<table border=\"1\" class=\"dataframe\">\n",
              "  <thead>\n",
              "    <tr style=\"text-align: right;\">\n",
              "      <th></th>\n",
              "      <th>feature</th>\n",
              "      <th>XGBRF_importance</th>\n",
              "    </tr>\n",
              "  </thead>\n",
              "  <tbody>\n",
              "    <tr>\n",
              "      <th>7</th>\n",
              "      <td>Outlet_Type</td>\n",
              "      <td>0.349864</td>\n",
              "    </tr>\n",
              "    <tr>\n",
              "      <th>5</th>\n",
              "      <td>Outlet_Size</td>\n",
              "      <td>0.192658</td>\n",
              "    </tr>\n",
              "    <tr>\n",
              "      <th>10</th>\n",
              "      <td>Outlet_Age</td>\n",
              "      <td>0.175040</td>\n",
              "    </tr>\n",
              "    <tr>\n",
              "      <th>3</th>\n",
              "      <td>Item_MRP</td>\n",
              "      <td>0.131012</td>\n",
              "    </tr>\n",
              "    <tr>\n",
              "      <th>4</th>\n",
              "      <td>Outlet_Identifier</td>\n",
              "      <td>0.130735</td>\n",
              "    </tr>\n",
              "    <tr>\n",
              "      <th>6</th>\n",
              "      <td>Outlet_Location_Type</td>\n",
              "      <td>0.013184</td>\n",
              "    </tr>\n",
              "    <tr>\n",
              "      <th>9</th>\n",
              "      <td>Item_Visibility_interpolate</td>\n",
              "      <td>0.002493</td>\n",
              "    </tr>\n",
              "    <tr>\n",
              "      <th>8</th>\n",
              "      <td>Item_Weight_Interpolate</td>\n",
              "      <td>0.001770</td>\n",
              "    </tr>\n",
              "    <tr>\n",
              "      <th>2</th>\n",
              "      <td>Item_Type</td>\n",
              "      <td>0.001566</td>\n",
              "    </tr>\n",
              "    <tr>\n",
              "      <th>0</th>\n",
              "      <td>Item_Identifier</td>\n",
              "      <td>0.000999</td>\n",
              "    </tr>\n",
              "    <tr>\n",
              "      <th>1</th>\n",
              "      <td>Item_Fat_Content</td>\n",
              "      <td>0.000680</td>\n",
              "    </tr>\n",
              "  </tbody>\n",
              "</table>\n",
              "</div>"
            ],
            "text/plain": [
              "                        feature  XGBRF_importance\n",
              "7                   Outlet_Type          0.349864\n",
              "5                   Outlet_Size          0.192658\n",
              "10                   Outlet_Age          0.175040\n",
              "3                      Item_MRP          0.131012\n",
              "4             Outlet_Identifier          0.130735\n",
              "6          Outlet_Location_Type          0.013184\n",
              "9   Item_Visibility_interpolate          0.002493\n",
              "8       Item_Weight_Interpolate          0.001770\n",
              "2                     Item_Type          0.001566\n",
              "0               Item_Identifier          0.000999\n",
              "1              Item_Fat_Content          0.000680"
            ]
          },
          "execution_count": 136,
          "metadata": {},
          "output_type": "execute_result"
        }
      ],
      "source": [
        "xg=XGBRFRegressor(n_estimators=100,random_state=42)\n",
        "xg1=xg.fit(X,y)\n",
        "pd.DataFrame({\n",
        "    'feature': X.columns,\n",
        "    'XGBRF_importance':xg1.feature_importances_\n",
        "}).sort_values(by='XGBRF_importance', ascending=False)"
      ]
    },
    {
      "cell_type": "code",
      "execution_count": null,
      "metadata": {
        "id": "J_fuD-wMkgRy",
        "outputId": "37fff7e7-8bec-4d4f-c93c-a74708c69037"
      },
      "outputs": [
        {
          "data": {
            "text/plain": [
              "['Outlet_Location_Type',\n",
              " 'Item_Visibility_interpolate',\n",
              " 'Item_Weight_Interpolate',\n",
              " 'Item_Type',\n",
              " 'Item_Identifier',\n",
              " 'Item_Fat_Content']"
            ]
          },
          "execution_count": 137,
          "metadata": {},
          "output_type": "execute_result"
        }
      ],
      "source": [
        "['Outlet_Location_Type','Item_Visibility_interpolate','Item_Weight_Interpolate','Item_Type','Item_Identifier','Item_Fat_Content']"
      ]
    },
    {
      "cell_type": "code",
      "execution_count": null,
      "metadata": {
        "id": "SwMME3T5kgRy",
        "outputId": "3d6a4292-5b4f-4954-c116-6d65806e092a"
      },
      "outputs": [
        {
          "name": "stdout",
          "output_type": "stream",
          "text": [
            "0.5966037632320667\n"
          ]
        }
      ],
      "source": [
        "from xgboost import XGBRFRegressor\n",
        "xg=XGBRFRegressor(n_estimators=100,random_state=42)\n",
        "scores=cross_val_score(xg1,X.drop(['Outlet_Location_Type','Item_Visibility_interpolate','Item_Weight_Interpolate','Item_Type','Item_Identifier','Item_Fat_Content'],axis=1),y,cv=5,scoring='r2')\n",
        "print(scores.mean())"
      ]
    },
    {
      "cell_type": "code",
      "execution_count": null,
      "metadata": {
        "id": "0MdSfOFkkgRz"
      },
      "outputs": [],
      "source": [
        "final_dataset=X.drop(columns=['Outlet_Location_Type','Item_Visibility_interpolate','Item_Weight_Interpolate','Item_Type','Item_Identifier','Item_Fat_Content'],axis=1)"
      ]
    },
    {
      "cell_type": "code",
      "execution_count": null,
      "metadata": {
        "id": "uWeZRmG0kgRz",
        "outputId": "ed42d53a-6c84-46c2-ee4e-a9d74fd5006e"
      },
      "outputs": [
        {
          "data": {
            "text/html": [
              "<div>\n",
              "<style scoped>\n",
              "    .dataframe tbody tr th:only-of-type {\n",
              "        vertical-align: middle;\n",
              "    }\n",
              "\n",
              "    .dataframe tbody tr th {\n",
              "        vertical-align: top;\n",
              "    }\n",
              "\n",
              "    .dataframe thead th {\n",
              "        text-align: right;\n",
              "    }\n",
              "</style>\n",
              "<table border=\"1\" class=\"dataframe\">\n",
              "  <thead>\n",
              "    <tr style=\"text-align: right;\">\n",
              "      <th></th>\n",
              "      <th>Item_MRP</th>\n",
              "      <th>Outlet_Identifier</th>\n",
              "      <th>Outlet_Size</th>\n",
              "      <th>Outlet_Type</th>\n",
              "      <th>Outlet_Age</th>\n",
              "    </tr>\n",
              "  </thead>\n",
              "  <tbody>\n",
              "    <tr>\n",
              "      <th>0</th>\n",
              "      <td>249.8092</td>\n",
              "      <td>9.0</td>\n",
              "      <td>1.0</td>\n",
              "      <td>1.0</td>\n",
              "      <td>24</td>\n",
              "    </tr>\n",
              "    <tr>\n",
              "      <th>1</th>\n",
              "      <td>48.2692</td>\n",
              "      <td>3.0</td>\n",
              "      <td>1.0</td>\n",
              "      <td>2.0</td>\n",
              "      <td>14</td>\n",
              "    </tr>\n",
              "    <tr>\n",
              "      <th>2</th>\n",
              "      <td>141.6180</td>\n",
              "      <td>9.0</td>\n",
              "      <td>1.0</td>\n",
              "      <td>1.0</td>\n",
              "      <td>24</td>\n",
              "    </tr>\n",
              "    <tr>\n",
              "      <th>3</th>\n",
              "      <td>182.0950</td>\n",
              "      <td>0.0</td>\n",
              "      <td>2.0</td>\n",
              "      <td>0.0</td>\n",
              "      <td>25</td>\n",
              "    </tr>\n",
              "    <tr>\n",
              "      <th>4</th>\n",
              "      <td>53.8614</td>\n",
              "      <td>1.0</td>\n",
              "      <td>0.0</td>\n",
              "      <td>1.0</td>\n",
              "      <td>36</td>\n",
              "    </tr>\n",
              "  </tbody>\n",
              "</table>\n",
              "</div>"
            ],
            "text/plain": [
              "   Item_MRP  Outlet_Identifier  Outlet_Size  Outlet_Type  Outlet_Age\n",
              "0  249.8092                9.0          1.0          1.0          24\n",
              "1   48.2692                3.0          1.0          2.0          14\n",
              "2  141.6180                9.0          1.0          1.0          24\n",
              "3  182.0950                0.0          2.0          0.0          25\n",
              "4   53.8614                1.0          0.0          1.0          36"
            ]
          },
          "execution_count": 141,
          "metadata": {},
          "output_type": "execute_result"
        }
      ],
      "source": [
        "final_dataset.head(5)"
      ]
    },
    {
      "cell_type": "markdown",
      "metadata": {
        "id": "_3fPgVeAkgRz"
      },
      "source": [
        "### Best Model"
      ]
    },
    {
      "cell_type": "code",
      "execution_count": null,
      "metadata": {
        "id": "MYG3L9fTkgRz"
      },
      "outputs": [],
      "source": [
        "from xgboost import XGBRFRegressor\n",
        "xg_final=XGBRFRegressor()"
      ]
    },
    {
      "cell_type": "code",
      "execution_count": null,
      "metadata": {
        "id": "Bub9OpPdkgRz",
        "outputId": "75381c72-6e25-4130-f9d7-fb2cf68bc256"
      },
      "outputs": [
        {
          "data": {
            "text/html": [
              "<style>#sk-container-id-6 {color: black;}#sk-container-id-6 pre{padding: 0;}#sk-container-id-6 div.sk-toggleable {background-color: white;}#sk-container-id-6 label.sk-toggleable__label {cursor: pointer;display: block;width: 100%;margin-bottom: 0;padding: 0.3em;box-sizing: border-box;text-align: center;}#sk-container-id-6 label.sk-toggleable__label-arrow:before {content: \"▸\";float: left;margin-right: 0.25em;color: #696969;}#sk-container-id-6 label.sk-toggleable__label-arrow:hover:before {color: black;}#sk-container-id-6 div.sk-estimator:hover label.sk-toggleable__label-arrow:before {color: black;}#sk-container-id-6 div.sk-toggleable__content {max-height: 0;max-width: 0;overflow: hidden;text-align: left;background-color: #f0f8ff;}#sk-container-id-6 div.sk-toggleable__content pre {margin: 0.2em;color: black;border-radius: 0.25em;background-color: #f0f8ff;}#sk-container-id-6 input.sk-toggleable__control:checked~div.sk-toggleable__content {max-height: 200px;max-width: 100%;overflow: auto;}#sk-container-id-6 input.sk-toggleable__control:checked~label.sk-toggleable__label-arrow:before {content: \"▾\";}#sk-container-id-6 div.sk-estimator input.sk-toggleable__control:checked~label.sk-toggleable__label {background-color: #d4ebff;}#sk-container-id-6 div.sk-label input.sk-toggleable__control:checked~label.sk-toggleable__label {background-color: #d4ebff;}#sk-container-id-6 input.sk-hidden--visually {border: 0;clip: rect(1px 1px 1px 1px);clip: rect(1px, 1px, 1px, 1px);height: 1px;margin: -1px;overflow: hidden;padding: 0;position: absolute;width: 1px;}#sk-container-id-6 div.sk-estimator {font-family: monospace;background-color: #f0f8ff;border: 1px dotted black;border-radius: 0.25em;box-sizing: border-box;margin-bottom: 0.5em;}#sk-container-id-6 div.sk-estimator:hover {background-color: #d4ebff;}#sk-container-id-6 div.sk-parallel-item::after {content: \"\";width: 100%;border-bottom: 1px solid gray;flex-grow: 1;}#sk-container-id-6 div.sk-label:hover label.sk-toggleable__label {background-color: #d4ebff;}#sk-container-id-6 div.sk-serial::before {content: \"\";position: absolute;border-left: 1px solid gray;box-sizing: border-box;top: 0;bottom: 0;left: 50%;z-index: 0;}#sk-container-id-6 div.sk-serial {display: flex;flex-direction: column;align-items: center;background-color: white;padding-right: 0.2em;padding-left: 0.2em;position: relative;}#sk-container-id-6 div.sk-item {position: relative;z-index: 1;}#sk-container-id-6 div.sk-parallel {display: flex;align-items: stretch;justify-content: center;background-color: white;position: relative;}#sk-container-id-6 div.sk-item::before, #sk-container-id-6 div.sk-parallel-item::before {content: \"\";position: absolute;border-left: 1px solid gray;box-sizing: border-box;top: 0;bottom: 0;left: 50%;z-index: -1;}#sk-container-id-6 div.sk-parallel-item {display: flex;flex-direction: column;z-index: 1;position: relative;background-color: white;}#sk-container-id-6 div.sk-parallel-item:first-child::after {align-self: flex-end;width: 50%;}#sk-container-id-6 div.sk-parallel-item:last-child::after {align-self: flex-start;width: 50%;}#sk-container-id-6 div.sk-parallel-item:only-child::after {width: 0;}#sk-container-id-6 div.sk-dashed-wrapped {border: 1px dashed gray;margin: 0 0.4em 0.5em 0.4em;box-sizing: border-box;padding-bottom: 0.4em;background-color: white;}#sk-container-id-6 div.sk-label label {font-family: monospace;font-weight: bold;display: inline-block;line-height: 1.2em;}#sk-container-id-6 div.sk-label-container {text-align: center;}#sk-container-id-6 div.sk-container {/* jupyter's `normalize.less` sets `[hidden] { display: none; }` but bootstrap.min.css set `[hidden] { display: none !important; }` so we also need the `!important` here to be able to override the default hidden behavior on the sphinx rendered scikit-learn.org. See: https://github.com/scikit-learn/scikit-learn/issues/21755 */display: inline-block !important;position: relative;}#sk-container-id-6 div.sk-text-repr-fallback {display: none;}</style><div id=\"sk-container-id-6\" class=\"sk-top-container\"><div class=\"sk-text-repr-fallback\"><pre>XGBRFRegressor(base_score=None, booster=None, callbacks=None,\n",
              "               colsample_bylevel=None, colsample_bytree=None, device=None,\n",
              "               early_stopping_rounds=None, enable_categorical=False,\n",
              "               eval_metric=None, feature_types=None, gamma=None,\n",
              "               grow_policy=None, importance_type=None,\n",
              "               interaction_constraints=None, max_bin=None,\n",
              "               max_cat_threshold=None, max_cat_to_onehot=None,\n",
              "               max_delta_step=None, max_depth=None, max_leaves=None,\n",
              "               min_child_weight=None, missing=nan, monotone_constraints=None,\n",
              "               multi_strategy=None, n_estimators=None, n_jobs=None,\n",
              "               num_parallel_tree=None, objective=&#x27;reg:squarederror&#x27;,\n",
              "               random_state=None, reg_alpha=None, ...)</pre><b>In a Jupyter environment, please rerun this cell to show the HTML representation or trust the notebook. <br />On GitHub, the HTML representation is unable to render, please try loading this page with nbviewer.org.</b></div><div class=\"sk-container\" hidden><div class=\"sk-item\"><div class=\"sk-estimator sk-toggleable\"><input class=\"sk-toggleable__control sk-hidden--visually\" id=\"sk-estimator-id-6\" type=\"checkbox\" checked><label for=\"sk-estimator-id-6\" class=\"sk-toggleable__label sk-toggleable__label-arrow\">XGBRFRegressor</label><div class=\"sk-toggleable__content\"><pre>XGBRFRegressor(base_score=None, booster=None, callbacks=None,\n",
              "               colsample_bylevel=None, colsample_bytree=None, device=None,\n",
              "               early_stopping_rounds=None, enable_categorical=False,\n",
              "               eval_metric=None, feature_types=None, gamma=None,\n",
              "               grow_policy=None, importance_type=None,\n",
              "               interaction_constraints=None, max_bin=None,\n",
              "               max_cat_threshold=None, max_cat_to_onehot=None,\n",
              "               max_delta_step=None, max_depth=None, max_leaves=None,\n",
              "               min_child_weight=None, missing=nan, monotone_constraints=None,\n",
              "               multi_strategy=None, n_estimators=None, n_jobs=None,\n",
              "               num_parallel_tree=None, objective=&#x27;reg:squarederror&#x27;,\n",
              "               random_state=None, reg_alpha=None, ...)</pre></div></div></div></div></div>"
            ],
            "text/plain": [
              "XGBRFRegressor(base_score=None, booster=None, callbacks=None,\n",
              "               colsample_bylevel=None, colsample_bytree=None, device=None,\n",
              "               early_stopping_rounds=None, enable_categorical=False,\n",
              "               eval_metric=None, feature_types=None, gamma=None,\n",
              "               grow_policy=None, importance_type=None,\n",
              "               interaction_constraints=None, max_bin=None,\n",
              "               max_cat_threshold=None, max_cat_to_onehot=None,\n",
              "               max_delta_step=None, max_depth=None, max_leaves=None,\n",
              "               min_child_weight=None, missing=nan, monotone_constraints=None,\n",
              "               multi_strategy=None, n_estimators=None, n_jobs=None,\n",
              "               num_parallel_tree=None, objective='reg:squarederror',\n",
              "               random_state=None, reg_alpha=None, ...)"
            ]
          },
          "execution_count": 167,
          "metadata": {},
          "output_type": "execute_result"
        }
      ],
      "source": [
        "xg_final.fit(final_dataset,y)"
      ]
    },
    {
      "cell_type": "code",
      "execution_count": null,
      "metadata": {
        "id": "p4eSoFy1kgRz"
      },
      "outputs": [],
      "source": [
        "from sklearn.model_selection import train_test_split\n",
        "from sklearn.metrics import mean_absolute_error\n"
      ]
    },
    {
      "cell_type": "code",
      "execution_count": null,
      "metadata": {
        "id": "v6Xdh2OJkgRz"
      },
      "outputs": [],
      "source": [
        "X_train,X_test,y_train,y_test=train_test_split(final_dataset,y,test_size=0.2,random_state=42)"
      ]
    },
    {
      "cell_type": "code",
      "execution_count": null,
      "metadata": {
        "id": "Tnr78ZZ7kgRz",
        "outputId": "c2295e30-ea11-4acf-941e-259f1f0d1593"
      },
      "outputs": [
        {
          "data": {
            "text/html": [
              "<style>#sk-container-id-7 {color: black;}#sk-container-id-7 pre{padding: 0;}#sk-container-id-7 div.sk-toggleable {background-color: white;}#sk-container-id-7 label.sk-toggleable__label {cursor: pointer;display: block;width: 100%;margin-bottom: 0;padding: 0.3em;box-sizing: border-box;text-align: center;}#sk-container-id-7 label.sk-toggleable__label-arrow:before {content: \"▸\";float: left;margin-right: 0.25em;color: #696969;}#sk-container-id-7 label.sk-toggleable__label-arrow:hover:before {color: black;}#sk-container-id-7 div.sk-estimator:hover label.sk-toggleable__label-arrow:before {color: black;}#sk-container-id-7 div.sk-toggleable__content {max-height: 0;max-width: 0;overflow: hidden;text-align: left;background-color: #f0f8ff;}#sk-container-id-7 div.sk-toggleable__content pre {margin: 0.2em;color: black;border-radius: 0.25em;background-color: #f0f8ff;}#sk-container-id-7 input.sk-toggleable__control:checked~div.sk-toggleable__content {max-height: 200px;max-width: 100%;overflow: auto;}#sk-container-id-7 input.sk-toggleable__control:checked~label.sk-toggleable__label-arrow:before {content: \"▾\";}#sk-container-id-7 div.sk-estimator input.sk-toggleable__control:checked~label.sk-toggleable__label {background-color: #d4ebff;}#sk-container-id-7 div.sk-label input.sk-toggleable__control:checked~label.sk-toggleable__label {background-color: #d4ebff;}#sk-container-id-7 input.sk-hidden--visually {border: 0;clip: rect(1px 1px 1px 1px);clip: rect(1px, 1px, 1px, 1px);height: 1px;margin: -1px;overflow: hidden;padding: 0;position: absolute;width: 1px;}#sk-container-id-7 div.sk-estimator {font-family: monospace;background-color: #f0f8ff;border: 1px dotted black;border-radius: 0.25em;box-sizing: border-box;margin-bottom: 0.5em;}#sk-container-id-7 div.sk-estimator:hover {background-color: #d4ebff;}#sk-container-id-7 div.sk-parallel-item::after {content: \"\";width: 100%;border-bottom: 1px solid gray;flex-grow: 1;}#sk-container-id-7 div.sk-label:hover label.sk-toggleable__label {background-color: #d4ebff;}#sk-container-id-7 div.sk-serial::before {content: \"\";position: absolute;border-left: 1px solid gray;box-sizing: border-box;top: 0;bottom: 0;left: 50%;z-index: 0;}#sk-container-id-7 div.sk-serial {display: flex;flex-direction: column;align-items: center;background-color: white;padding-right: 0.2em;padding-left: 0.2em;position: relative;}#sk-container-id-7 div.sk-item {position: relative;z-index: 1;}#sk-container-id-7 div.sk-parallel {display: flex;align-items: stretch;justify-content: center;background-color: white;position: relative;}#sk-container-id-7 div.sk-item::before, #sk-container-id-7 div.sk-parallel-item::before {content: \"\";position: absolute;border-left: 1px solid gray;box-sizing: border-box;top: 0;bottom: 0;left: 50%;z-index: -1;}#sk-container-id-7 div.sk-parallel-item {display: flex;flex-direction: column;z-index: 1;position: relative;background-color: white;}#sk-container-id-7 div.sk-parallel-item:first-child::after {align-self: flex-end;width: 50%;}#sk-container-id-7 div.sk-parallel-item:last-child::after {align-self: flex-start;width: 50%;}#sk-container-id-7 div.sk-parallel-item:only-child::after {width: 0;}#sk-container-id-7 div.sk-dashed-wrapped {border: 1px dashed gray;margin: 0 0.4em 0.5em 0.4em;box-sizing: border-box;padding-bottom: 0.4em;background-color: white;}#sk-container-id-7 div.sk-label label {font-family: monospace;font-weight: bold;display: inline-block;line-height: 1.2em;}#sk-container-id-7 div.sk-label-container {text-align: center;}#sk-container-id-7 div.sk-container {/* jupyter's `normalize.less` sets `[hidden] { display: none; }` but bootstrap.min.css set `[hidden] { display: none !important; }` so we also need the `!important` here to be able to override the default hidden behavior on the sphinx rendered scikit-learn.org. See: https://github.com/scikit-learn/scikit-learn/issues/21755 */display: inline-block !important;position: relative;}#sk-container-id-7 div.sk-text-repr-fallback {display: none;}</style><div id=\"sk-container-id-7\" class=\"sk-top-container\"><div class=\"sk-text-repr-fallback\"><pre>XGBRFRegressor(base_score=None, booster=None, callbacks=None,\n",
              "               colsample_bylevel=None, colsample_bytree=None, device=None,\n",
              "               early_stopping_rounds=None, enable_categorical=False,\n",
              "               eval_metric=None, feature_types=None, gamma=None,\n",
              "               grow_policy=None, importance_type=None,\n",
              "               interaction_constraints=None, max_bin=None,\n",
              "               max_cat_threshold=None, max_cat_to_onehot=None,\n",
              "               max_delta_step=None, max_depth=None, max_leaves=None,\n",
              "               min_child_weight=None, missing=nan, monotone_constraints=None,\n",
              "               multi_strategy=None, n_estimators=None, n_jobs=None,\n",
              "               num_parallel_tree=None, objective=&#x27;reg:squarederror&#x27;,\n",
              "               random_state=None, reg_alpha=None, ...)</pre><b>In a Jupyter environment, please rerun this cell to show the HTML representation or trust the notebook. <br />On GitHub, the HTML representation is unable to render, please try loading this page with nbviewer.org.</b></div><div class=\"sk-container\" hidden><div class=\"sk-item\"><div class=\"sk-estimator sk-toggleable\"><input class=\"sk-toggleable__control sk-hidden--visually\" id=\"sk-estimator-id-7\" type=\"checkbox\" checked><label for=\"sk-estimator-id-7\" class=\"sk-toggleable__label sk-toggleable__label-arrow\">XGBRFRegressor</label><div class=\"sk-toggleable__content\"><pre>XGBRFRegressor(base_score=None, booster=None, callbacks=None,\n",
              "               colsample_bylevel=None, colsample_bytree=None, device=None,\n",
              "               early_stopping_rounds=None, enable_categorical=False,\n",
              "               eval_metric=None, feature_types=None, gamma=None,\n",
              "               grow_policy=None, importance_type=None,\n",
              "               interaction_constraints=None, max_bin=None,\n",
              "               max_cat_threshold=None, max_cat_to_onehot=None,\n",
              "               max_delta_step=None, max_depth=None, max_leaves=None,\n",
              "               min_child_weight=None, missing=nan, monotone_constraints=None,\n",
              "               multi_strategy=None, n_estimators=None, n_jobs=None,\n",
              "               num_parallel_tree=None, objective=&#x27;reg:squarederror&#x27;,\n",
              "               random_state=None, reg_alpha=None, ...)</pre></div></div></div></div></div>"
            ],
            "text/plain": [
              "XGBRFRegressor(base_score=None, booster=None, callbacks=None,\n",
              "               colsample_bylevel=None, colsample_bytree=None, device=None,\n",
              "               early_stopping_rounds=None, enable_categorical=False,\n",
              "               eval_metric=None, feature_types=None, gamma=None,\n",
              "               grow_policy=None, importance_type=None,\n",
              "               interaction_constraints=None, max_bin=None,\n",
              "               max_cat_threshold=None, max_cat_to_onehot=None,\n",
              "               max_delta_step=None, max_depth=None, max_leaves=None,\n",
              "               min_child_weight=None, missing=nan, monotone_constraints=None,\n",
              "               multi_strategy=None, n_estimators=None, n_jobs=None,\n",
              "               num_parallel_tree=None, objective='reg:squarederror',\n",
              "               random_state=None, reg_alpha=None, ...)"
            ]
          },
          "execution_count": 170,
          "metadata": {},
          "output_type": "execute_result"
        }
      ],
      "source": [
        "xg_final.fit(X_train, y_train)"
      ]
    },
    {
      "cell_type": "code",
      "execution_count": null,
      "metadata": {
        "id": "JeXiYQ9dkgRz"
      },
      "outputs": [],
      "source": [
        "y_pred=xg_final.predict(X_test)"
      ]
    },
    {
      "cell_type": "code",
      "execution_count": null,
      "metadata": {
        "id": "bI8d9qHAkgRz",
        "outputId": "b52b3a04-9c45-4ae2-dbd6-994539143cdd"
      },
      "outputs": [
        {
          "data": {
            "text/plain": [
              "713.9516489619299"
            ]
          },
          "execution_count": 172,
          "metadata": {},
          "output_type": "execute_result"
        }
      ],
      "source": [
        "mean_absolute_error(y_test,y_pred)"
      ]
    },
    {
      "cell_type": "markdown",
      "metadata": {
        "id": "QZVl9KWBkgRz"
      },
      "source": [
        "### Prediction on unseen data"
      ]
    },
    {
      "cell_type": "code",
      "execution_count": null,
      "metadata": {
        "id": "kTowUx8nkgRz",
        "outputId": "0be5af1e-b5a1-4706-9f3e-6b7e58e4a917"
      },
      "outputs": [
        {
          "name": "stdout",
          "output_type": "stream",
          "text": [
            "2067.0864\n",
            "Sales Value is in between 1353.1348257812501 and 2781.03802578125\n"
          ]
        }
      ],
      "source": [
        "prediction = xg_final.predict(np.array([[141.6180,9.0,1.0,1.0,24]]))[0]\n",
        "print(prediction)\n",
        "print(\"Sales Value is in between {} and {}\".format(prediction-713.9516, prediction+713.9516))"
      ]
    },
    {
      "cell_type": "markdown",
      "metadata": {
        "id": "8ehJPJ8jkgRz"
      },
      "source": [
        "### Saving Model using joblib"
      ]
    },
    {
      "cell_type": "code",
      "execution_count": null,
      "metadata": {
        "id": "3Slc-HXVkgRz"
      },
      "outputs": [],
      "source": [
        "import joblib"
      ]
    },
    {
      "cell_type": "code",
      "execution_count": null,
      "metadata": {
        "id": "BLZhLWUvkgR0",
        "outputId": "9fcff92b-3888-4c1f-df4a-826a0bf6ce3b"
      },
      "outputs": [
        {
          "data": {
            "text/plain": [
              "['bigmart_sales_prediction']"
            ]
          },
          "execution_count": 175,
          "metadata": {},
          "output_type": "execute_result"
        }
      ],
      "source": [
        "joblib.dump(xg_final,'bigmart_sales_prediction')"
      ]
    },
    {
      "cell_type": "code",
      "execution_count": null,
      "metadata": {
        "id": "dwGj4Xg2kgR0"
      },
      "outputs": [],
      "source": [
        "model=joblib.load('bigmart_sales_prediction')"
      ]
    },
    {
      "cell_type": "markdown",
      "metadata": {
        "id": "r6LnK5s_kgR0"
      },
      "source": [
        "### Construction of GUI"
      ]
    },
    {
      "cell_type": "code",
      "execution_count": null,
      "metadata": {
        "id": "ohJsbHTSkgR0"
      },
      "outputs": [],
      "source": [
        "import numpy as np\n",
        "import datetime as dt\n",
        "from tkinter import *\n",
        "import joblib\n",
        "current_year = dt.datetime.today().year\n",
        "def show_entry_fields():\n",
        "    p1=float(e1.get())\n",
        "    #p4=float(e4.get())\n",
        "\n",
        "    text = clicked.get()\n",
        "    if text == \"OUT010\":\n",
        "        p2=0\n",
        "        print(p2)\n",
        "    elif text==\"OUT013\":\n",
        "        p2=1\n",
        "        print(p2)\n",
        "    elif text==\"OUT017\":\n",
        "        p2=2\n",
        "        print(p2)\n",
        "    elif text==\"OUT018\":\n",
        "        p2=3\n",
        "        print(p2)\n",
        "    elif text==\"OUT019\":\n",
        "        p2=4\n",
        "        print(p2)\n",
        "    elif text==\"OUT027\":\n",
        "        p2=5\n",
        "        print(p2)\n",
        "    elif text==\"OUT035\":\n",
        "        p2=6\n",
        "        print(p2)\n",
        "    elif text==\"OUT045\":\n",
        "        p2=7\n",
        "        print(p2)\n",
        "    elif text==\"OUT046\":\n",
        "        p2=8\n",
        "        print(p2)\n",
        "    elif text==\"OUT049\":\n",
        "        p2=9\n",
        "        print(p2)\n",
        "    text0 = clicked0.get()\n",
        "    if text0 == \"High\":\n",
        "        p3=0\n",
        "        print(p3)\n",
        "    elif text0==\"Medium\":\n",
        "        p3=1\n",
        "        print(p3)\n",
        "    elif text0==\"Small\":\n",
        "        p3=2\n",
        "        print(p3)\n",
        "\n",
        "    text1 = clicked1.get()\n",
        "    if text1 == \"Supermarket Type1\":\n",
        "        p4=1\n",
        "        print(p4)\n",
        "    elif text1==\"Supermarket Type2\":\n",
        "        p4=2\n",
        "        print(p4)\n",
        "    elif text1==\"Supermarket Type3\":\n",
        "        p4=3\n",
        "        print(p4)\n",
        "    elif text1==\"Grocery Store\":\n",
        "        p4=0\n",
        "        print(p4)\n",
        "\n",
        "    p5=current_year - int(e5.get())\n",
        "    print(p5)\n",
        "\n",
        "    model = joblib.load('bigmart_model')\n",
        "    result=model.predict(np.array([[p1,p2,p3,p4,p5]]))\n",
        "    Label(master, text=\"Sales\").grid(row=8)\n",
        "    Label(master, text=result).grid(row=10)\n",
        "    print(\"Sales amount\", result)\n",
        "\n",
        "master = Tk()\n",
        "master.title(\"Big Mart Sales Prediction using Machine Learning\")\n",
        "\n",
        "\n",
        "label = Label(master, text = \" Big Mart Sales Prediction using ML\"\n",
        "                          , bg = \"black\", fg = \"white\"). \\\n",
        "                               grid(row=0,columnspan=2)\n",
        "\n",
        "# Item_MRP\tOutlet_Identifier\tOutlet_Size\tOutlet_Type\tOutlet_age\n",
        "Label(master, text=\"Item_MRP\").grid(row=1)\n",
        "Label(master, text=\"Outlet_Identifier\").grid(row=2)\n",
        "Label(master, text=\"Outlet_Size\").grid(row=3)\n",
        "Label(master, text=\"Outlet_Type\").grid(row=4)\n",
        "Label(master, text=\"Outlet_Establishment_Year\").grid(row=5)\n",
        "\n",
        "\n",
        "clicked = StringVar()\n",
        "options = ['OUT010', 'OUT013', 'OUT017', 'OUT018', 'OUT019', 'OUT027',\n",
        "       'OUT035', 'OUT045', 'OUT046', 'OUT049']\n",
        "\n",
        "clicked0 = StringVar()\n",
        "\n",
        "options0 = ['High', 'Medium', 'Small']\n",
        "\n",
        "clicked1 = StringVar()\n",
        "options1 = ['Grocery Store', 'Supermarket Type1', 'Supermarket Type2',\n",
        "       'Supermarket Type3']\n",
        "\n",
        "e1 = Entry(master)\n",
        "\n",
        "e2 = OptionMenu(master , clicked , *options )\n",
        "e2.configure(width=15)\n",
        "\n",
        "\n",
        "e3 = OptionMenu(master , clicked0 , *options0 )\n",
        "e3.configure(width=15)\n",
        "\n",
        "\n",
        "e4 = OptionMenu(master , clicked1 , *options1 )\n",
        "e4.configure(width=15)\n",
        "\n",
        "e5 = Entry(master)\n",
        "\n",
        "\n",
        "e1.grid(row=1, column=1)\n",
        "e2.grid(row=2, column=1)\n",
        "e3.grid(row=3, column=1)\n",
        "e4.grid(row=4, column=1)\n",
        "e5.grid(row=5, column=1)\n",
        "\n",
        "\n",
        "\n",
        "Button(master, text='Predict', command=show_entry_fields).grid()\n",
        "\n",
        "mainloop()"
      ]
    },
    {
      "cell_type": "code",
      "execution_count": null,
      "metadata": {
        "id": "JmL3yVkqkgR0"
      },
      "outputs": [],
      "source": []
    }
  ],
  "metadata": {
    "colab": {
      "provenance": []
    },
    "kernelspec": {
      "display_name": "Python 3 (ipykernel)",
      "language": "python",
      "name": "python3"
    },
    "language_info": {
      "codemirror_mode": {
        "name": "ipython",
        "version": 3
      },
      "file_extension": ".py",
      "mimetype": "text/x-python",
      "name": "python",
      "nbconvert_exporter": "python",
      "pygments_lexer": "ipython3",
      "version": "3.11.5"
    }
  },
  "nbformat": 4,
  "nbformat_minor": 0
}